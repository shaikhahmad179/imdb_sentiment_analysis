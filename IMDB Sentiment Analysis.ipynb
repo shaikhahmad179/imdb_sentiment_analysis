{
  "cells": [
    {
      "cell_type": "markdown",
      "id": "3fd4e583",
      "metadata": {
        "id": "3fd4e583"
      },
      "source": [
        "# Introduction"
      ]
    },
    {
      "cell_type": "code",
      "source": [
        "from google.colab import drive\n",
        "drive.mount('/content/drive')"
      ],
      "metadata": {
        "colab": {
          "base_uri": "https://localhost:8080/"
        },
        "id": "xVl6k3W4JmJ0",
        "outputId": "cca0c029-eb13-4fd8-ff7e-f9deb58ef771"
      },
      "id": "xVl6k3W4JmJ0",
      "execution_count": null,
      "outputs": [
        {
          "output_type": "stream",
          "name": "stdout",
          "text": [
            "Drive already mounted at /content/drive; to attempt to forcibly remount, call drive.mount(\"/content/drive\", force_remount=True).\n"
          ]
        }
      ]
    },
    {
      "cell_type": "markdown",
      "id": "0bcbeac4",
      "metadata": {
        "id": "0bcbeac4"
      },
      "source": [
        "## 0. Importing the libraries"
      ]
    },
    {
      "cell_type": "code",
      "execution_count": null,
      "id": "b2026d36",
      "metadata": {
        "colab": {
          "base_uri": "https://localhost:8080/"
        },
        "id": "b2026d36",
        "outputId": "8921b90f-0726-427f-acf4-fdace3303460"
      },
      "outputs": [
        {
          "output_type": "stream",
          "name": "stderr",
          "text": [
            "[nltk_data] Downloading package stopwords to /root/nltk_data...\n",
            "[nltk_data]   Package stopwords is already up-to-date!\n",
            "[nltk_data] Downloading package omw-1.4 to /root/nltk_data...\n",
            "[nltk_data]   Package omw-1.4 is already up-to-date!\n",
            "[nltk_data] Downloading package wordnet to /root/nltk_data...\n",
            "[nltk_data]   Package wordnet is already up-to-date!\n",
            "[nltk_data] Downloading package punkt to /root/nltk_data...\n",
            "[nltk_data]   Package punkt is already up-to-date!\n"
          ]
        }
      ],
      "source": [
        "import pandas as pd\n",
        "import seaborn as sns\n",
        "import numpy as np\n",
        "import matplotlib.pyplot as plt\n",
        "import plotly.express as px\n",
        "import nltk\n",
        "from nltk.corpus import stopwords\n",
        "from nltk.stem import SnowballStemmer, WordNetLemmatizer\n",
        "import re\n",
        "from sklearn.pipeline import Pipeline\n",
        "from sklearn.feature_extraction.text import CountVectorizer\n",
        "from sklearn.metrics import classification_report, roc_curve, auc\n",
        "from sklearn.feature_extraction.text import CountVectorizer\n",
        "from sklearn.tree import DecisionTreeClassifier\n",
        "from sklearn.model_selection import GridSearchCV, RandomizedSearchCV\n",
        "from sklearn.ensemble import RandomForestClassifier\n",
        "from sklearn.linear_model import Perceptron\n",
        "from sklearn.metrics import accuracy_score, precision_recall_fscore_support, confusion_matrix\n",
        "from sklearn.neural_network import MLPClassifier\n",
        "from sklearn.neighbors import KNeighborsClassifier\n",
        "from sklearn.svm import LinearSVC\n",
        "from sklearn.model_selection import train_test_split\n",
        "from scipy.stats import randint, uniform\n",
        "from functools import reduce\n",
        "\n",
        "nltk.download('stopwords')\n",
        "nltk.download('omw-1.4')\n",
        "nltk.download('wordnet')\n",
        "nltk.download('punkt')\n",
        "\n",
        "import warnings\n",
        "warnings.filterwarnings(\"ignore\")"
      ]
    },
    {
      "cell_type": "markdown",
      "id": "be752e46",
      "metadata": {
        "id": "be752e46"
      },
      "source": [
        "## 1. Exploratory Data Analysis"
      ]
    },
    {
      "cell_type": "markdown",
      "id": "a1a73b0a",
      "metadata": {
        "id": "a1a73b0a"
      },
      "source": [
        "### 1.1 Data Loading\n",
        "\n",
        "The data is loaded from the IMDB_Dataset.csv file and the following substitution of the labels takes place.\n",
        "\n",
        "1. '1' -> Postive\n",
        "2. '0' -> Negative"
      ]
    },
    {
      "cell_type": "code",
      "execution_count": null,
      "id": "f5f06bcc",
      "metadata": {
        "colab": {
          "base_uri": "https://localhost:8080/",
          "height": 206
        },
        "id": "f5f06bcc",
        "outputId": "afc15d5f-4c17-4600-cb79-dc9ae45ccb1a"
      },
      "outputs": [
        {
          "output_type": "execute_result",
          "data": {
            "text/plain": [
              "                                              review  sentiment\n",
              "0  One of the other reviewers has mentioned that ...          1\n",
              "1  A wonderful little production. <br /><br />The...          1\n",
              "2  I thought this was a wonderful way to spend ti...          1\n",
              "3  Basically there's a family where a little boy ...          0\n",
              "4  Petter Mattei's \"Love in the Time of Money\" is...          1"
            ],
            "text/html": [
              "\n",
              "  <div id=\"df-1de6d0d6-594d-4f03-a22c-2c41b7f59e46\">\n",
              "    <div class=\"colab-df-container\">\n",
              "      <div>\n",
              "<style scoped>\n",
              "    .dataframe tbody tr th:only-of-type {\n",
              "        vertical-align: middle;\n",
              "    }\n",
              "\n",
              "    .dataframe tbody tr th {\n",
              "        vertical-align: top;\n",
              "    }\n",
              "\n",
              "    .dataframe thead th {\n",
              "        text-align: right;\n",
              "    }\n",
              "</style>\n",
              "<table border=\"1\" class=\"dataframe\">\n",
              "  <thead>\n",
              "    <tr style=\"text-align: right;\">\n",
              "      <th></th>\n",
              "      <th>review</th>\n",
              "      <th>sentiment</th>\n",
              "    </tr>\n",
              "  </thead>\n",
              "  <tbody>\n",
              "    <tr>\n",
              "      <th>0</th>\n",
              "      <td>One of the other reviewers has mentioned that ...</td>\n",
              "      <td>1</td>\n",
              "    </tr>\n",
              "    <tr>\n",
              "      <th>1</th>\n",
              "      <td>A wonderful little production. &lt;br /&gt;&lt;br /&gt;The...</td>\n",
              "      <td>1</td>\n",
              "    </tr>\n",
              "    <tr>\n",
              "      <th>2</th>\n",
              "      <td>I thought this was a wonderful way to spend ti...</td>\n",
              "      <td>1</td>\n",
              "    </tr>\n",
              "    <tr>\n",
              "      <th>3</th>\n",
              "      <td>Basically there's a family where a little boy ...</td>\n",
              "      <td>0</td>\n",
              "    </tr>\n",
              "    <tr>\n",
              "      <th>4</th>\n",
              "      <td>Petter Mattei's \"Love in the Time of Money\" is...</td>\n",
              "      <td>1</td>\n",
              "    </tr>\n",
              "  </tbody>\n",
              "</table>\n",
              "</div>\n",
              "      <button class=\"colab-df-convert\" onclick=\"convertToInteractive('df-1de6d0d6-594d-4f03-a22c-2c41b7f59e46')\"\n",
              "              title=\"Convert this dataframe to an interactive table.\"\n",
              "              style=\"display:none;\">\n",
              "        \n",
              "  <svg xmlns=\"http://www.w3.org/2000/svg\" height=\"24px\"viewBox=\"0 0 24 24\"\n",
              "       width=\"24px\">\n",
              "    <path d=\"M0 0h24v24H0V0z\" fill=\"none\"/>\n",
              "    <path d=\"M18.56 5.44l.94 2.06.94-2.06 2.06-.94-2.06-.94-.94-2.06-.94 2.06-2.06.94zm-11 1L8.5 8.5l.94-2.06 2.06-.94-2.06-.94L8.5 2.5l-.94 2.06-2.06.94zm10 10l.94 2.06.94-2.06 2.06-.94-2.06-.94-.94-2.06-.94 2.06-2.06.94z\"/><path d=\"M17.41 7.96l-1.37-1.37c-.4-.4-.92-.59-1.43-.59-.52 0-1.04.2-1.43.59L10.3 9.45l-7.72 7.72c-.78.78-.78 2.05 0 2.83L4 21.41c.39.39.9.59 1.41.59.51 0 1.02-.2 1.41-.59l7.78-7.78 2.81-2.81c.8-.78.8-2.07 0-2.86zM5.41 20L4 18.59l7.72-7.72 1.47 1.35L5.41 20z\"/>\n",
              "  </svg>\n",
              "      </button>\n",
              "      \n",
              "  <style>\n",
              "    .colab-df-container {\n",
              "      display:flex;\n",
              "      flex-wrap:wrap;\n",
              "      gap: 12px;\n",
              "    }\n",
              "\n",
              "    .colab-df-convert {\n",
              "      background-color: #E8F0FE;\n",
              "      border: none;\n",
              "      border-radius: 50%;\n",
              "      cursor: pointer;\n",
              "      display: none;\n",
              "      fill: #1967D2;\n",
              "      height: 32px;\n",
              "      padding: 0 0 0 0;\n",
              "      width: 32px;\n",
              "    }\n",
              "\n",
              "    .colab-df-convert:hover {\n",
              "      background-color: #E2EBFA;\n",
              "      box-shadow: 0px 1px 2px rgba(60, 64, 67, 0.3), 0px 1px 3px 1px rgba(60, 64, 67, 0.15);\n",
              "      fill: #174EA6;\n",
              "    }\n",
              "\n",
              "    [theme=dark] .colab-df-convert {\n",
              "      background-color: #3B4455;\n",
              "      fill: #D2E3FC;\n",
              "    }\n",
              "\n",
              "    [theme=dark] .colab-df-convert:hover {\n",
              "      background-color: #434B5C;\n",
              "      box-shadow: 0px 1px 3px 1px rgba(0, 0, 0, 0.15);\n",
              "      filter: drop-shadow(0px 1px 2px rgba(0, 0, 0, 0.3));\n",
              "      fill: #FFFFFF;\n",
              "    }\n",
              "  </style>\n",
              "\n",
              "      <script>\n",
              "        const buttonEl =\n",
              "          document.querySelector('#df-1de6d0d6-594d-4f03-a22c-2c41b7f59e46 button.colab-df-convert');\n",
              "        buttonEl.style.display =\n",
              "          google.colab.kernel.accessAllowed ? 'block' : 'none';\n",
              "\n",
              "        async function convertToInteractive(key) {\n",
              "          const element = document.querySelector('#df-1de6d0d6-594d-4f03-a22c-2c41b7f59e46');\n",
              "          const dataTable =\n",
              "            await google.colab.kernel.invokeFunction('convertToInteractive',\n",
              "                                                     [key], {});\n",
              "          if (!dataTable) return;\n",
              "\n",
              "          const docLinkHtml = 'Like what you see? Visit the ' +\n",
              "            '<a target=\"_blank\" href=https://colab.research.google.com/notebooks/data_table.ipynb>data table notebook</a>'\n",
              "            + ' to learn more about interactive tables.';\n",
              "          element.innerHTML = '';\n",
              "          dataTable['output_type'] = 'display_data';\n",
              "          await google.colab.output.renderOutput(dataTable, element);\n",
              "          const docLink = document.createElement('div');\n",
              "          docLink.innerHTML = docLinkHtml;\n",
              "          element.appendChild(docLink);\n",
              "        }\n",
              "      </script>\n",
              "    </div>\n",
              "  </div>\n",
              "  "
            ]
          },
          "metadata": {},
          "execution_count": 3
        }
      ],
      "source": [
        "# Reading the dataset\n",
        "imdb = pd.read_csv('/content/drive/MyDrive/MLDM Dataset/IMDB_Dataset.csv')\n",
        "imdb['sentiment']= imdb['sentiment'].apply(lambda x : 1 if x=='positive' else 0)\n",
        "imdb.head()"
      ]
    },
    {
      "cell_type": "markdown",
      "id": "b8ce0201",
      "metadata": {
        "id": "b8ce0201"
      },
      "source": [
        "### 1.2 Understanding the dataset"
      ]
    },
    {
      "cell_type": "code",
      "execution_count": null,
      "id": "c01a1be4",
      "metadata": {
        "colab": {
          "base_uri": "https://localhost:8080/",
          "height": 300
        },
        "id": "c01a1be4",
        "outputId": "b749aac9-9416-4b8f-d350-0ebf65ffa384"
      },
      "outputs": [
        {
          "output_type": "execute_result",
          "data": {
            "text/plain": [
              "          sentiment\n",
              "count  50000.000000\n",
              "mean       0.500000\n",
              "std        0.500005\n",
              "min        0.000000\n",
              "25%        0.000000\n",
              "50%        0.500000\n",
              "75%        1.000000\n",
              "max        1.000000"
            ],
            "text/html": [
              "\n",
              "  <div id=\"df-75859810-2c3e-4570-997b-746dfd5c0132\">\n",
              "    <div class=\"colab-df-container\">\n",
              "      <div>\n",
              "<style scoped>\n",
              "    .dataframe tbody tr th:only-of-type {\n",
              "        vertical-align: middle;\n",
              "    }\n",
              "\n",
              "    .dataframe tbody tr th {\n",
              "        vertical-align: top;\n",
              "    }\n",
              "\n",
              "    .dataframe thead th {\n",
              "        text-align: right;\n",
              "    }\n",
              "</style>\n",
              "<table border=\"1\" class=\"dataframe\">\n",
              "  <thead>\n",
              "    <tr style=\"text-align: right;\">\n",
              "      <th></th>\n",
              "      <th>sentiment</th>\n",
              "    </tr>\n",
              "  </thead>\n",
              "  <tbody>\n",
              "    <tr>\n",
              "      <th>count</th>\n",
              "      <td>50000.000000</td>\n",
              "    </tr>\n",
              "    <tr>\n",
              "      <th>mean</th>\n",
              "      <td>0.500000</td>\n",
              "    </tr>\n",
              "    <tr>\n",
              "      <th>std</th>\n",
              "      <td>0.500005</td>\n",
              "    </tr>\n",
              "    <tr>\n",
              "      <th>min</th>\n",
              "      <td>0.000000</td>\n",
              "    </tr>\n",
              "    <tr>\n",
              "      <th>25%</th>\n",
              "      <td>0.000000</td>\n",
              "    </tr>\n",
              "    <tr>\n",
              "      <th>50%</th>\n",
              "      <td>0.500000</td>\n",
              "    </tr>\n",
              "    <tr>\n",
              "      <th>75%</th>\n",
              "      <td>1.000000</td>\n",
              "    </tr>\n",
              "    <tr>\n",
              "      <th>max</th>\n",
              "      <td>1.000000</td>\n",
              "    </tr>\n",
              "  </tbody>\n",
              "</table>\n",
              "</div>\n",
              "      <button class=\"colab-df-convert\" onclick=\"convertToInteractive('df-75859810-2c3e-4570-997b-746dfd5c0132')\"\n",
              "              title=\"Convert this dataframe to an interactive table.\"\n",
              "              style=\"display:none;\">\n",
              "        \n",
              "  <svg xmlns=\"http://www.w3.org/2000/svg\" height=\"24px\"viewBox=\"0 0 24 24\"\n",
              "       width=\"24px\">\n",
              "    <path d=\"M0 0h24v24H0V0z\" fill=\"none\"/>\n",
              "    <path d=\"M18.56 5.44l.94 2.06.94-2.06 2.06-.94-2.06-.94-.94-2.06-.94 2.06-2.06.94zm-11 1L8.5 8.5l.94-2.06 2.06-.94-2.06-.94L8.5 2.5l-.94 2.06-2.06.94zm10 10l.94 2.06.94-2.06 2.06-.94-2.06-.94-.94-2.06-.94 2.06-2.06.94z\"/><path d=\"M17.41 7.96l-1.37-1.37c-.4-.4-.92-.59-1.43-.59-.52 0-1.04.2-1.43.59L10.3 9.45l-7.72 7.72c-.78.78-.78 2.05 0 2.83L4 21.41c.39.39.9.59 1.41.59.51 0 1.02-.2 1.41-.59l7.78-7.78 2.81-2.81c.8-.78.8-2.07 0-2.86zM5.41 20L4 18.59l7.72-7.72 1.47 1.35L5.41 20z\"/>\n",
              "  </svg>\n",
              "      </button>\n",
              "      \n",
              "  <style>\n",
              "    .colab-df-container {\n",
              "      display:flex;\n",
              "      flex-wrap:wrap;\n",
              "      gap: 12px;\n",
              "    }\n",
              "\n",
              "    .colab-df-convert {\n",
              "      background-color: #E8F0FE;\n",
              "      border: none;\n",
              "      border-radius: 50%;\n",
              "      cursor: pointer;\n",
              "      display: none;\n",
              "      fill: #1967D2;\n",
              "      height: 32px;\n",
              "      padding: 0 0 0 0;\n",
              "      width: 32px;\n",
              "    }\n",
              "\n",
              "    .colab-df-convert:hover {\n",
              "      background-color: #E2EBFA;\n",
              "      box-shadow: 0px 1px 2px rgba(60, 64, 67, 0.3), 0px 1px 3px 1px rgba(60, 64, 67, 0.15);\n",
              "      fill: #174EA6;\n",
              "    }\n",
              "\n",
              "    [theme=dark] .colab-df-convert {\n",
              "      background-color: #3B4455;\n",
              "      fill: #D2E3FC;\n",
              "    }\n",
              "\n",
              "    [theme=dark] .colab-df-convert:hover {\n",
              "      background-color: #434B5C;\n",
              "      box-shadow: 0px 1px 3px 1px rgba(0, 0, 0, 0.15);\n",
              "      filter: drop-shadow(0px 1px 2px rgba(0, 0, 0, 0.3));\n",
              "      fill: #FFFFFF;\n",
              "    }\n",
              "  </style>\n",
              "\n",
              "      <script>\n",
              "        const buttonEl =\n",
              "          document.querySelector('#df-75859810-2c3e-4570-997b-746dfd5c0132 button.colab-df-convert');\n",
              "        buttonEl.style.display =\n",
              "          google.colab.kernel.accessAllowed ? 'block' : 'none';\n",
              "\n",
              "        async function convertToInteractive(key) {\n",
              "          const element = document.querySelector('#df-75859810-2c3e-4570-997b-746dfd5c0132');\n",
              "          const dataTable =\n",
              "            await google.colab.kernel.invokeFunction('convertToInteractive',\n",
              "                                                     [key], {});\n",
              "          if (!dataTable) return;\n",
              "\n",
              "          const docLinkHtml = 'Like what you see? Visit the ' +\n",
              "            '<a target=\"_blank\" href=https://colab.research.google.com/notebooks/data_table.ipynb>data table notebook</a>'\n",
              "            + ' to learn more about interactive tables.';\n",
              "          element.innerHTML = '';\n",
              "          dataTable['output_type'] = 'display_data';\n",
              "          await google.colab.output.renderOutput(dataTable, element);\n",
              "          const docLink = document.createElement('div');\n",
              "          docLink.innerHTML = docLinkHtml;\n",
              "          element.appendChild(docLink);\n",
              "        }\n",
              "      </script>\n",
              "    </div>\n",
              "  </div>\n",
              "  "
            ]
          },
          "metadata": {},
          "execution_count": 4
        }
      ],
      "source": [
        "imdb.describe()"
      ]
    },
    {
      "cell_type": "code",
      "execution_count": null,
      "id": "219ece39",
      "metadata": {
        "colab": {
          "base_uri": "https://localhost:8080/"
        },
        "id": "219ece39",
        "outputId": "fe8bc510-9219-44ba-b992-2d8631b59d43"
      },
      "outputs": [
        {
          "output_type": "stream",
          "name": "stdout",
          "text": [
            "<class 'pandas.core.frame.DataFrame'>\n",
            "RangeIndex: 50000 entries, 0 to 49999\n",
            "Data columns (total 2 columns):\n",
            " #   Column     Non-Null Count  Dtype \n",
            "---  ------     --------------  ----- \n",
            " 0   review     50000 non-null  object\n",
            " 1   sentiment  50000 non-null  int64 \n",
            "dtypes: int64(1), object(1)\n",
            "memory usage: 781.4+ KB\n"
          ]
        }
      ],
      "source": [
        "imdb.info()"
      ]
    },
    {
      "cell_type": "markdown",
      "id": "cf0d1ee3",
      "metadata": {
        "id": "cf0d1ee3"
      },
      "source": [
        "### 1.3 Visualizing the dataset"
      ]
    },
    {
      "cell_type": "markdown",
      "id": "948d1380",
      "metadata": {
        "id": "948d1380"
      },
      "source": [
        "#### 1.3.1 Visualizing the frequency per sentiment"
      ]
    },
    {
      "cell_type": "code",
      "execution_count": null,
      "id": "ff55a703",
      "metadata": {
        "colab": {
          "base_uri": "https://localhost:8080/",
          "height": 461
        },
        "id": "ff55a703",
        "outputId": "dd072a49-4d78-42b4-a1a6-41f3d1b542d6"
      },
      "outputs": [
        {
          "output_type": "execute_result",
          "data": {
            "text/plain": [
              "<Axes: xlabel='sentiment'>"
            ]
          },
          "metadata": {},
          "execution_count": 6
        },
        {
          "output_type": "display_data",
          "data": {
            "text/plain": [
              "<Figure size 640x480 with 1 Axes>"
            ],
            "image/png": "[encoded data removed]"
          },
          "metadata": {}
        }
      ],
      "source": [
        "imdb.groupby('sentiment').count().plot(kind='bar')"
      ]
    },
    {
      "cell_type": "markdown",
      "id": "c6d4d2cc",
      "metadata": {
        "id": "c6d4d2cc"
      },
      "source": [
        "#### 1.3.2 Distribution of positive/negative words by the number of words"
      ]
    },
    {
      "cell_type": "code",
      "execution_count": null,
      "id": "bb675daa",
      "metadata": {
        "colab": {
          "base_uri": "https://localhost:8080/",
          "height": 510
        },
        "id": "bb675daa",
        "outputId": "aea9c05a-b7f8-448f-b627-1288844c69da"
      },
      "outputs": [
        {
          "output_type": "stream",
          "name": "stdout",
          "text": [
            "Positive Reviews Mean and Standard Deviation 232.84932 177.4970463517524\n",
            "Negative Reviews Mean and Standard Deviation 229.46456 164.94779542332478\n"
          ]
        },
        {
          "output_type": "execute_result",
          "data": {
            "text/plain": [
              "Text(0.5, 0.98, 'Average word length in each text')"
            ]
          },
          "metadata": {},
          "execution_count": 7
        },
        {
          "output_type": "display_data",
          "data": {
            "text/plain": [
              "<Figure size 2000x1000 with 2 Axes>"
            ],
            "image/png": "[encoded data removed]"
          },
          "metadata": {}
        }
      ],
      "source": [
        "fig,(ax1,ax2)=plt.subplots(1,2,figsize=(20,10))\n",
        "word = imdb[imdb['sentiment']==1]['review'].apply(lambda x : len(x.split()))\n",
        "sns.histplot(word.map(lambda x: np.mean(x)),ax=ax1,color='red')\n",
        "ax1.set_title('Text with Good Reviews')\n",
        "ax1.set_xlabel('Number of words')\n",
        "\n",
        "print('Positive Reviews Mean and Standard Deviation', word.mean(), word.std())\n",
        "\n",
        "word = imdb[imdb['sentiment']==0]['review'].apply(lambda x : len(x.split()))\n",
        "sns.histplot(word.map(lambda x: np.mean(x)),ax=ax2,color='green')\n",
        "ax2.set_title('Text with Bad Reviews')\n",
        "ax2.set_xlabel('Number of words')\n",
        "print('Negative Reviews Mean and Standard Deviation', word.mean(), word.std())\n",
        "\n",
        "fig.suptitle('Average word length in each text')"
      ]
    },
    {
      "cell_type": "code",
      "source": [
        "print(word.mean(), word.std())"
      ],
      "metadata": {
        "colab": {
          "base_uri": "https://localhost:8080/"
        },
        "id": "aItbM1LzqyRX",
        "outputId": "b4672d32-5423-4a6b-931d-1b05a1d263ec"
      },
      "id": "aItbM1LzqyRX",
      "execution_count": null,
      "outputs": [
        {
          "output_type": "stream",
          "name": "stdout",
          "text": [
            "229.46456 164.94779542332478\n"
          ]
        }
      ]
    },
    {
      "cell_type": "markdown",
      "id": "2537677f",
      "metadata": {
        "id": "2537677f"
      },
      "source": [
        "#### 1.3.3 Visualizing the frequency of the most common words"
      ]
    },
    {
      "cell_type": "code",
      "execution_count": null,
      "id": "cdc8c51c",
      "metadata": {
        "id": "cdc8c51c"
      },
      "outputs": [],
      "source": [
        "def get_top_text_ngrams(corpus, n, g):\n",
        "    vec = CountVectorizer(ngram_range=(g, g)).fit(corpus)\n",
        "    bag_of_words = vec.transform(corpus)\n",
        "    sum_words = bag_of_words.sum(axis=0)\n",
        "    words_freq = [(word, sum_words[0, idx]) for word, idx in vec.vocabulary_.items()]\n",
        "    words_freq =sorted(words_freq, key = lambda x: x[1], reverse=True)\n",
        "    return words_freq[:n]"
      ]
    },
    {
      "cell_type": "code",
      "execution_count": null,
      "id": "80e9fb25",
      "metadata": {
        "colab": {
          "base_uri": "https://localhost:8080/",
          "height": 717
        },
        "id": "80e9fb25",
        "outputId": "b0b296b2-6a5f-4d1f-a618-1238fe0b4c30"
      },
      "outputs": [
        {
          "output_type": "display_data",
          "data": {
            "text/html": [
              "<html>\n",
              "<head><meta charset=\"utf-8\" /></head>\n",
              "<body>\n",
              "    <div>            <script src=\"https://cdnjs.cloudflare.com/ajax/libs/mathjax/2.7.5/MathJax.js?config=TeX-AMS-MML_SVG\"></script><script type=\"text/javascript\">if (window.MathJax && window.MathJax.Hub && window.MathJax.Hub.Config) {window.MathJax.Hub.Config({SVG: {font: \"STIX-Web\"}});}</script>                <script type=\"text/javascript\">window.PlotlyConfig = {MathJaxConfig: 'local'};</script>\n",
              "        <script src=\"https://cdn.plot.ly/plotly-2.18.2.min.js\"></script>                <div id=\"df339152-4438-4847-9e1a-5c2d69d857df\" class=\"plotly-graph-div\" style=\"height:700px; width:700px;\"></div>            <script type=\"text/javascript\">                                    window.PLOTLYENV=window.PLOTLYENV || {};                                    if (document.getElementById(\"df339152-4438-4847-9e1a-5c2d69d857df\")) {                    Plotly.newPlot(                        \"df339152-4438-4847-9e1a-5c2d69d857df\",                        [{\"alignmentgroup\":\"True\",\"hovertemplate\":\"Common_words=%{y}<br>Count=%{x}<extra></extra>\",\"legendgroup\":\"the\",\"marker\":{\"color\":\"#636efa\",\"pattern\":{\"shape\":\"\"}},\"name\":\"the\",\"offsetgroup\":\"the\",\"orientation\":\"h\",\"showlegend\":true,\"textposition\":\"auto\",\"x\":[667993],\"xaxis\":\"x\",\"y\":[\"the\"],\"yaxis\":\"y\",\"type\":\"bar\"},{\"alignmentgroup\":\"True\",\"hovertemplate\":\"Common_words=%{y}<br>Count=%{x}<extra></extra>\",\"legendgroup\":\"and\",\"marker\":{\"color\":\"#EF553B\",\"pattern\":{\"shape\":\"\"}},\"name\":\"and\",\"offsetgroup\":\"and\",\"orientation\":\"h\",\"showlegend\":true,\"textposition\":\"auto\",\"x\":[324441],\"xaxis\":\"x\",\"y\":[\"and\"],\"yaxis\":\"y\",\"type\":\"bar\"},{\"alignmentgroup\":\"True\",\"hovertemplate\":\"Common_words=%{y}<br>Count=%{x}<extra></extra>\",\"legendgroup\":\"of\",\"marker\":{\"color\":\"#00cc96\",\"pattern\":{\"shape\":\"\"}},\"name\":\"of\",\"offsetgroup\":\"of\",\"orientation\":\"h\",\"showlegend\":true,\"textposition\":\"auto\",\"x\":[289410],\"xaxis\":\"x\",\"y\":[\"of\"],\"yaxis\":\"y\",\"type\":\"bar\"},{\"alignmentgroup\":\"True\",\"hovertemplate\":\"Common_words=%{y}<br>Count=%{x}<extra></extra>\",\"legendgroup\":\"to\",\"marker\":{\"color\":\"#ab63fa\",\"pattern\":{\"shape\":\"\"}},\"name\":\"to\",\"offsetgroup\":\"to\",\"orientation\":\"h\",\"showlegend\":true,\"textposition\":\"auto\",\"x\":[268124],\"xaxis\":\"x\",\"y\":[\"to\"],\"yaxis\":\"y\",\"type\":\"bar\"},{\"alignmentgroup\":\"True\",\"hovertemplate\":\"Common_words=%{y}<br>Count=%{x}<extra></extra>\",\"legendgroup\":\"is\",\"marker\":{\"color\":\"#FFA15A\",\"pattern\":{\"shape\":\"\"}},\"name\":\"is\",\"offsetgroup\":\"is\",\"orientation\":\"h\",\"showlegend\":true,\"textposition\":\"auto\",\"x\":[211082],\"xaxis\":\"x\",\"y\":[\"is\"],\"yaxis\":\"y\",\"type\":\"bar\"},{\"alignmentgroup\":\"True\",\"hovertemplate\":\"Common_words=%{y}<br>Count=%{x}<extra></extra>\",\"legendgroup\":\"br\",\"marker\":{\"color\":\"#19d3f3\",\"pattern\":{\"shape\":\"\"}},\"name\":\"br\",\"offsetgroup\":\"br\",\"orientation\":\"h\",\"showlegend\":true,\"textposition\":\"auto\",\"x\":[201951],\"xaxis\":\"x\",\"y\":[\"br\"],\"yaxis\":\"y\",\"type\":\"bar\"},{\"alignmentgroup\":\"True\",\"hovertemplate\":\"Common_words=%{y}<br>Count=%{x}<extra></extra>\",\"legendgroup\":\"it\",\"marker\":{\"color\":\"#FF6692\",\"pattern\":{\"shape\":\"\"}},\"name\":\"it\",\"offsetgroup\":\"it\",\"orientation\":\"h\",\"showlegend\":true,\"textposition\":\"auto\",\"x\":[190857],\"xaxis\":\"x\",\"y\":[\"it\"],\"yaxis\":\"y\",\"type\":\"bar\"},{\"alignmentgroup\":\"True\",\"hovertemplate\":\"Common_words=%{y}<br>Count=%{x}<extra></extra>\",\"legendgroup\":\"in\",\"marker\":{\"color\":\"#B6E880\",\"pattern\":{\"shape\":\"\"}},\"name\":\"in\",\"offsetgroup\":\"in\",\"orientation\":\"h\",\"showlegend\":true,\"textposition\":\"auto\",\"x\":[186781],\"xaxis\":\"x\",\"y\":[\"in\"],\"yaxis\":\"y\",\"type\":\"bar\"},{\"alignmentgroup\":\"True\",\"hovertemplate\":\"Common_words=%{y}<br>Count=%{x}<extra></extra>\",\"legendgroup\":\"this\",\"marker\":{\"color\":\"#FF97FF\",\"pattern\":{\"shape\":\"\"}},\"name\":\"this\",\"offsetgroup\":\"this\",\"orientation\":\"h\",\"showlegend\":true,\"textposition\":\"auto\",\"x\":[151002],\"xaxis\":\"x\",\"y\":[\"this\"],\"yaxis\":\"y\",\"type\":\"bar\"},{\"alignmentgroup\":\"True\",\"hovertemplate\":\"Common_words=%{y}<br>Count=%{x}<extra></extra>\",\"legendgroup\":\"that\",\"marker\":{\"color\":\"#FECB52\",\"pattern\":{\"shape\":\"\"}},\"name\":\"that\",\"offsetgroup\":\"that\",\"orientation\":\"h\",\"showlegend\":true,\"textposition\":\"auto\",\"x\":[143879],\"xaxis\":\"x\",\"y\":[\"that\"],\"yaxis\":\"y\",\"type\":\"bar\"},{\"alignmentgroup\":\"True\",\"hovertemplate\":\"Common_words=%{y}<br>Count=%{x}<extra></extra>\",\"legendgroup\":\"was\",\"marker\":{\"color\":\"#636efa\",\"pattern\":{\"shape\":\"\"}},\"name\":\"was\",\"offsetgroup\":\"was\",\"orientation\":\"h\",\"showlegend\":true,\"textposition\":\"auto\",\"x\":[95608],\"xaxis\":\"x\",\"y\":[\"was\"],\"yaxis\":\"y\",\"type\":\"bar\"},{\"alignmentgroup\":\"True\",\"hovertemplate\":\"Common_words=%{y}<br>Count=%{x}<extra></extra>\",\"legendgroup\":\"as\",\"marker\":{\"color\":\"#EF553B\",\"pattern\":{\"shape\":\"\"}},\"name\":\"as\",\"offsetgroup\":\"as\",\"orientation\":\"h\",\"showlegend\":true,\"textposition\":\"auto\",\"x\":[91750],\"xaxis\":\"x\",\"y\":[\"as\"],\"yaxis\":\"y\",\"type\":\"bar\"},{\"alignmentgroup\":\"True\",\"hovertemplate\":\"Common_words=%{y}<br>Count=%{x}<extra></extra>\",\"legendgroup\":\"movie\",\"marker\":{\"color\":\"#00cc96\",\"pattern\":{\"shape\":\"\"}},\"name\":\"movie\",\"offsetgroup\":\"movie\",\"orientation\":\"h\",\"showlegend\":true,\"textposition\":\"auto\",\"x\":[87971],\"xaxis\":\"x\",\"y\":[\"movie\"],\"yaxis\":\"y\",\"type\":\"bar\"},{\"alignmentgroup\":\"True\",\"hovertemplate\":\"Common_words=%{y}<br>Count=%{x}<extra></extra>\",\"legendgroup\":\"for\",\"marker\":{\"color\":\"#ab63fa\",\"pattern\":{\"shape\":\"\"}},\"name\":\"for\",\"offsetgroup\":\"for\",\"orientation\":\"h\",\"showlegend\":true,\"textposition\":\"auto\",\"x\":[87471],\"xaxis\":\"x\",\"y\":[\"for\"],\"yaxis\":\"y\",\"type\":\"bar\"},{\"alignmentgroup\":\"True\",\"hovertemplate\":\"Common_words=%{y}<br>Count=%{x}<extra></extra>\",\"legendgroup\":\"with\",\"marker\":{\"color\":\"#FFA15A\",\"pattern\":{\"shape\":\"\"}},\"name\":\"with\",\"offsetgroup\":\"with\",\"orientation\":\"h\",\"showlegend\":true,\"textposition\":\"auto\",\"x\":[87368],\"xaxis\":\"x\",\"y\":[\"with\"],\"yaxis\":\"y\",\"type\":\"bar\"},{\"alignmentgroup\":\"True\",\"hovertemplate\":\"Common_words=%{y}<br>Count=%{x}<extra></extra>\",\"legendgroup\":\"but\",\"marker\":{\"color\":\"#19d3f3\",\"pattern\":{\"shape\":\"\"}},\"name\":\"but\",\"offsetgroup\":\"but\",\"orientation\":\"h\",\"showlegend\":true,\"textposition\":\"auto\",\"x\":[83554],\"xaxis\":\"x\",\"y\":[\"but\"],\"yaxis\":\"y\",\"type\":\"bar\"},{\"alignmentgroup\":\"True\",\"hovertemplate\":\"Common_words=%{y}<br>Count=%{x}<extra></extra>\",\"legendgroup\":\"film\",\"marker\":{\"color\":\"#FF6692\",\"pattern\":{\"shape\":\"\"}},\"name\":\"film\",\"offsetgroup\":\"film\",\"orientation\":\"h\",\"showlegend\":true,\"textposition\":\"auto\",\"x\":[79705],\"xaxis\":\"x\",\"y\":[\"film\"],\"yaxis\":\"y\",\"type\":\"bar\"},{\"alignmentgroup\":\"True\",\"hovertemplate\":\"Common_words=%{y}<br>Count=%{x}<extra></extra>\",\"legendgroup\":\"you\",\"marker\":{\"color\":\"#B6E880\",\"pattern\":{\"shape\":\"\"}},\"name\":\"you\",\"offsetgroup\":\"you\",\"orientation\":\"h\",\"showlegend\":true,\"textposition\":\"auto\",\"x\":[69129],\"xaxis\":\"x\",\"y\":[\"you\"],\"yaxis\":\"y\",\"type\":\"bar\"},{\"alignmentgroup\":\"True\",\"hovertemplate\":\"Common_words=%{y}<br>Count=%{x}<extra></extra>\",\"legendgroup\":\"on\",\"marker\":{\"color\":\"#FF97FF\",\"pattern\":{\"shape\":\"\"}},\"name\":\"on\",\"offsetgroup\":\"on\",\"orientation\":\"h\",\"showlegend\":true,\"textposition\":\"auto\",\"x\":[68057],\"xaxis\":\"x\",\"y\":[\"on\"],\"yaxis\":\"y\",\"type\":\"bar\"},{\"alignmentgroup\":\"True\",\"hovertemplate\":\"Common_words=%{y}<br>Count=%{x}<extra></extra>\",\"legendgroup\":\"not\",\"marker\":{\"color\":\"#FECB52\",\"pattern\":{\"shape\":\"\"}},\"name\":\"not\",\"offsetgroup\":\"not\",\"orientation\":\"h\",\"showlegend\":true,\"textposition\":\"auto\",\"x\":[60748],\"xaxis\":\"x\",\"y\":[\"not\"],\"yaxis\":\"y\",\"type\":\"bar\"}],                        {\"template\":{\"data\":{\"histogram2dcontour\":[{\"type\":\"histogram2dcontour\",\"colorbar\":{\"outlinewidth\":0,\"ticks\":\"\"},\"colorscale\":[[0.0,\"#0d0887\"],[0.1111111111111111,\"#46039f\"],[0.2222222222222222,\"#7201a8\"],[0.3333333333333333,\"#9c179e\"],[0.4444444444444444,\"#bd3786\"],[0.5555555555555556,\"#d8576b\"],[0.6666666666666666,\"#ed7953\"],[0.7777777777777778,\"#fb9f3a\"],[0.8888888888888888,\"#fdca26\"],[1.0,\"#f0f921\"]]}],\"choropleth\":[{\"type\":\"choropleth\",\"colorbar\":{\"outlinewidth\":0,\"ticks\":\"\"}}],\"histogram2d\":[{\"type\":\"histogram2d\",\"colorbar\":{\"outlinewidth\":0,\"ticks\":\"\"},\"colorscale\":[[0.0,\"#0d0887\"],[0.1111111111111111,\"#46039f\"],[0.2222222222222222,\"#7201a8\"],[0.3333333333333333,\"#9c179e\"],[0.4444444444444444,\"#bd3786\"],[0.5555555555555556,\"#d8576b\"],[0.6666666666666666,\"#ed7953\"],[0.7777777777777778,\"#fb9f3a\"],[0.8888888888888888,\"#fdca26\"],[1.0,\"#f0f921\"]]}],\"heatmap\":[{\"type\":\"heatmap\",\"colorbar\":{\"outlinewidth\":0,\"ticks\":\"\"},\"colorscale\":[[0.0,\"#0d0887\"],[0.1111111111111111,\"#46039f\"],[0.2222222222222222,\"#7201a8\"],[0.3333333333333333,\"#9c179e\"],[0.4444444444444444,\"#bd3786\"],[0.5555555555555556,\"#d8576b\"],[0.6666666666666666,\"#ed7953\"],[0.7777777777777778,\"#fb9f3a\"],[0.8888888888888888,\"#fdca26\"],[1.0,\"#f0f921\"]]}],\"heatmapgl\":[{\"type\":\"heatmapgl\",\"colorbar\":{\"outlinewidth\":0,\"ticks\":\"\"},\"colorscale\":[[0.0,\"#0d0887\"],[0.1111111111111111,\"#46039f\"],[0.2222222222222222,\"#7201a8\"],[0.3333333333333333,\"#9c179e\"],[0.4444444444444444,\"#bd3786\"],[0.5555555555555556,\"#d8576b\"],[0.6666666666666666,\"#ed7953\"],[0.7777777777777778,\"#fb9f3a\"],[0.8888888888888888,\"#fdca26\"],[1.0,\"#f0f921\"]]}],\"contourcarpet\":[{\"type\":\"contourcarpet\",\"colorbar\":{\"outlinewidth\":0,\"ticks\":\"\"}}],\"contour\":[{\"type\":\"contour\",\"colorbar\":{\"outlinewidth\":0,\"ticks\":\"\"},\"colorscale\":[[0.0,\"#0d0887\"],[0.1111111111111111,\"#46039f\"],[0.2222222222222222,\"#7201a8\"],[0.3333333333333333,\"#9c179e\"],[0.4444444444444444,\"#bd3786\"],[0.5555555555555556,\"#d8576b\"],[0.6666666666666666,\"#ed7953\"],[0.7777777777777778,\"#fb9f3a\"],[0.8888888888888888,\"#fdca26\"],[1.0,\"#f0f921\"]]}],\"surface\":[{\"type\":\"surface\",\"colorbar\":{\"outlinewidth\":0,\"ticks\":\"\"},\"colorscale\":[[0.0,\"#0d0887\"],[0.1111111111111111,\"#46039f\"],[0.2222222222222222,\"#7201a8\"],[0.3333333333333333,\"#9c179e\"],[0.4444444444444444,\"#bd3786\"],[0.5555555555555556,\"#d8576b\"],[0.6666666666666666,\"#ed7953\"],[0.7777777777777778,\"#fb9f3a\"],[0.8888888888888888,\"#fdca26\"],[1.0,\"#f0f921\"]]}],\"mesh3d\":[{\"type\":\"mesh3d\",\"colorbar\":{\"outlinewidth\":0,\"ticks\":\"\"}}],\"scatter\":[{\"fillpattern\":{\"fillmode\":\"overlay\",\"size\":10,\"solidity\":0.2},\"type\":\"scatter\"}],\"parcoords\":[{\"type\":\"parcoords\",\"line\":{\"colorbar\":{\"outlinewidth\":0,\"ticks\":\"\"}}}],\"scatterpolargl\":[{\"type\":\"scatterpolargl\",\"marker\":{\"colorbar\":{\"outlinewidth\":0,\"ticks\":\"\"}}}],\"bar\":[{\"error_x\":{\"color\":\"#2a3f5f\"},\"error_y\":{\"color\":\"#2a3f5f\"},\"marker\":{\"line\":{\"color\":\"#E5ECF6\",\"width\":0.5},\"pattern\":{\"fillmode\":\"overlay\",\"size\":10,\"solidity\":0.2}},\"type\":\"bar\"}],\"scattergeo\":[{\"type\":\"scattergeo\",\"marker\":{\"colorbar\":{\"outlinewidth\":0,\"ticks\":\"\"}}}],\"scatterpolar\":[{\"type\":\"scatterpolar\",\"marker\":{\"colorbar\":{\"outlinewidth\":0,\"ticks\":\"\"}}}],\"histogram\":[{\"marker\":{\"pattern\":{\"fillmode\":\"overlay\",\"size\":10,\"solidity\":0.2}},\"type\":\"histogram\"}],\"scattergl\":[{\"type\":\"scattergl\",\"marker\":{\"colorbar\":{\"outlinewidth\":0,\"ticks\":\"\"}}}],\"scatter3d\":[{\"type\":\"scatter3d\",\"line\":{\"colorbar\":{\"outlinewidth\":0,\"ticks\":\"\"}},\"marker\":{\"colorbar\":{\"outlinewidth\":0,\"ticks\":\"\"}}}],\"scattermapbox\":[{\"type\":\"scattermapbox\",\"marker\":{\"colorbar\":{\"outlinewidth\":0,\"ticks\":\"\"}}}],\"scatterternary\":[{\"type\":\"scatterternary\",\"marker\":{\"colorbar\":{\"outlinewidth\":0,\"ticks\":\"\"}}}],\"scattercarpet\":[{\"type\":\"scattercarpet\",\"marker\":{\"colorbar\":{\"outlinewidth\":0,\"ticks\":\"\"}}}],\"carpet\":[{\"aaxis\":{\"endlinecolor\":\"#2a3f5f\",\"gridcolor\":\"white\",\"linecolor\":\"white\",\"minorgridcolor\":\"white\",\"startlinecolor\":\"#2a3f5f\"},\"baxis\":{\"endlinecolor\":\"#2a3f5f\",\"gridcolor\":\"white\",\"linecolor\":\"white\",\"minorgridcolor\":\"white\",\"startlinecolor\":\"#2a3f5f\"},\"type\":\"carpet\"}],\"table\":[{\"cells\":{\"fill\":{\"color\":\"#EBF0F8\"},\"line\":{\"color\":\"white\"}},\"header\":{\"fill\":{\"color\":\"#C8D4E3\"},\"line\":{\"color\":\"white\"}},\"type\":\"table\"}],\"barpolar\":[{\"marker\":{\"line\":{\"color\":\"#E5ECF6\",\"width\":0.5},\"pattern\":{\"fillmode\":\"overlay\",\"size\":10,\"solidity\":0.2}},\"type\":\"barpolar\"}],\"pie\":[{\"automargin\":true,\"type\":\"pie\"}]},\"layout\":{\"autotypenumbers\":\"strict\",\"colorway\":[\"#636efa\",\"#EF553B\",\"#00cc96\",\"#ab63fa\",\"#FFA15A\",\"#19d3f3\",\"#FF6692\",\"#B6E880\",\"#FF97FF\",\"#FECB52\"],\"font\":{\"color\":\"#2a3f5f\"},\"hovermode\":\"closest\",\"hoverlabel\":{\"align\":\"left\"},\"paper_bgcolor\":\"white\",\"plot_bgcolor\":\"#E5ECF6\",\"polar\":{\"bgcolor\":\"#E5ECF6\",\"angularaxis\":{\"gridcolor\":\"white\",\"linecolor\":\"white\",\"ticks\":\"\"},\"radialaxis\":{\"gridcolor\":\"white\",\"linecolor\":\"white\",\"ticks\":\"\"}},\"ternary\":{\"bgcolor\":\"#E5ECF6\",\"aaxis\":{\"gridcolor\":\"white\",\"linecolor\":\"white\",\"ticks\":\"\"},\"baxis\":{\"gridcolor\":\"white\",\"linecolor\":\"white\",\"ticks\":\"\"},\"caxis\":{\"gridcolor\":\"white\",\"linecolor\":\"white\",\"ticks\":\"\"}},\"coloraxis\":{\"colorbar\":{\"outlinewidth\":0,\"ticks\":\"\"}},\"colorscale\":{\"sequential\":[[0.0,\"#0d0887\"],[0.1111111111111111,\"#46039f\"],[0.2222222222222222,\"#7201a8\"],[0.3333333333333333,\"#9c179e\"],[0.4444444444444444,\"#bd3786\"],[0.5555555555555556,\"#d8576b\"],[0.6666666666666666,\"#ed7953\"],[0.7777777777777778,\"#fb9f3a\"],[0.8888888888888888,\"#fdca26\"],[1.0,\"#f0f921\"]],\"sequentialminus\":[[0.0,\"#0d0887\"],[0.1111111111111111,\"#46039f\"],[0.2222222222222222,\"#7201a8\"],[0.3333333333333333,\"#9c179e\"],[0.4444444444444444,\"#bd3786\"],[0.5555555555555556,\"#d8576b\"],[0.6666666666666666,\"#ed7953\"],[0.7777777777777778,\"#fb9f3a\"],[0.8888888888888888,\"#fdca26\"],[1.0,\"#f0f921\"]],\"diverging\":[[0,\"#8e0152\"],[0.1,\"#c51b7d\"],[0.2,\"#de77ae\"],[0.3,\"#f1b6da\"],[0.4,\"#fde0ef\"],[0.5,\"#f7f7f7\"],[0.6,\"#e6f5d0\"],[0.7,\"#b8e186\"],[0.8,\"#7fbc41\"],[0.9,\"#4d9221\"],[1,\"#276419\"]]},\"xaxis\":{\"gridcolor\":\"white\",\"linecolor\":\"white\",\"ticks\":\"\",\"title\":{\"standoff\":15},\"zerolinecolor\":\"white\",\"automargin\":true,\"zerolinewidth\":2},\"yaxis\":{\"gridcolor\":\"white\",\"linecolor\":\"white\",\"ticks\":\"\",\"title\":{\"standoff\":15},\"zerolinecolor\":\"white\",\"automargin\":true,\"zerolinewidth\":2},\"scene\":{\"xaxis\":{\"backgroundcolor\":\"#E5ECF6\",\"gridcolor\":\"white\",\"linecolor\":\"white\",\"showbackground\":true,\"ticks\":\"\",\"zerolinecolor\":\"white\",\"gridwidth\":2},\"yaxis\":{\"backgroundcolor\":\"#E5ECF6\",\"gridcolor\":\"white\",\"linecolor\":\"white\",\"showbackground\":true,\"ticks\":\"\",\"zerolinecolor\":\"white\",\"gridwidth\":2},\"zaxis\":{\"backgroundcolor\":\"#E5ECF6\",\"gridcolor\":\"white\",\"linecolor\":\"white\",\"showbackground\":true,\"ticks\":\"\",\"zerolinecolor\":\"white\",\"gridwidth\":2}},\"shapedefaults\":{\"line\":{\"color\":\"#2a3f5f\"}},\"annotationdefaults\":{\"arrowcolor\":\"#2a3f5f\",\"arrowhead\":0,\"arrowwidth\":1},\"geo\":{\"bgcolor\":\"white\",\"landcolor\":\"#E5ECF6\",\"subunitcolor\":\"white\",\"showland\":true,\"showlakes\":true,\"lakecolor\":\"white\"},\"title\":{\"x\":0.05},\"mapbox\":{\"style\":\"light\"}}},\"xaxis\":{\"anchor\":\"y\",\"domain\":[0.0,1.0],\"title\":{\"text\":\"Count\"}},\"yaxis\":{\"anchor\":\"x\",\"domain\":[0.0,1.0],\"title\":{\"text\":\"Common_words\"},\"categoryorder\":\"array\",\"categoryarray\":[\"not\",\"on\",\"you\",\"film\",\"but\",\"with\",\"for\",\"movie\",\"as\",\"was\",\"that\",\"this\",\"in\",\"it\",\"br\",\"is\",\"to\",\"of\",\"and\",\"the\"]},\"legend\":{\"title\":{\"text\":\"Common_words\"},\"tracegroupgap\":0},\"title\":{\"text\":\"Commmon Words in Text\"},\"barmode\":\"relative\",\"height\":700,\"width\":700},                        {\"responsive\": true}                    ).then(function(){\n",
              "                            \n",
              "var gd = document.getElementById('df339152-4438-4847-9e1a-5c2d69d857df');\n",
              "var x = new MutationObserver(function (mutations, observer) {{\n",
              "        var display = window.getComputedStyle(gd).display;\n",
              "        if (!display || display === 'none') {{\n",
              "            console.log([gd, 'removed!']);\n",
              "            Plotly.purge(gd);\n",
              "            observer.disconnect();\n",
              "        }}\n",
              "}});\n",
              "\n",
              "// Listen for the removal of the full notebook cells\n",
              "var notebookContainer = gd.closest('#notebook-container');\n",
              "if (notebookContainer) {{\n",
              "    x.observe(notebookContainer, {childList: true});\n",
              "}}\n",
              "\n",
              "// Listen for the clearing of the current output cell\n",
              "var outputEl = gd.closest('.output');\n",
              "if (outputEl) {{\n",
              "    x.observe(outputEl, {childList: true});\n",
              "}}\n",
              "\n",
              "                        })                };                            </script>        </div>\n",
              "</body>\n",
              "</html>"
            ]
          },
          "metadata": {}
        }
      ],
      "source": [
        "most_common_uni = get_top_text_ngrams(imdb.review,20,1)\n",
        "most_common_uni = dict(most_common_uni)\n",
        "temp = pd.DataFrame(columns = [\"Common_words\" , 'Count'])\n",
        "temp[\"Common_words\"] = list(most_common_uni.keys())\n",
        "temp[\"Count\"] = list(most_common_uni.values())\n",
        "fig = px.bar(temp, x=\"Count\", y=\"Common_words\", title='Commmon Words in Text', orientation='h',\n",
        "             width=700, height=700,color='Common_words')\n",
        "fig.show()"
      ]
    },
    {
      "cell_type": "markdown",
      "id": "a7be1ba4",
      "metadata": {
        "id": "a7be1ba4"
      },
      "source": [
        "## 2. Data Preprocessing"
      ]
    },
    {
      "cell_type": "markdown",
      "id": "43358fc9",
      "metadata": {
        "id": "43358fc9"
      },
      "source": [
        "### 2.1 Checking missing values"
      ]
    },
    {
      "cell_type": "code",
      "execution_count": null,
      "id": "4330284e",
      "metadata": {
        "colab": {
          "base_uri": "https://localhost:8080/"
        },
        "id": "4330284e",
        "outputId": "5ee7a470-cc78-4f60-f14c-652aae95184b"
      },
      "outputs": [
        {
          "output_type": "execute_result",
          "data": {
            "text/plain": [
              "review       0\n",
              "sentiment    0\n",
              "dtype: int64"
            ]
          },
          "metadata": {},
          "execution_count": 11
        }
      ],
      "source": [
        "#Missing Vlaue Checks\n",
        "imdb.isna().sum()"
      ]
    },
    {
      "cell_type": "markdown",
      "id": "56cf5ae3",
      "metadata": {
        "id": "56cf5ae3"
      },
      "source": [
        "### 2.2 Checking and removing duplicates"
      ]
    },
    {
      "cell_type": "code",
      "execution_count": null,
      "id": "bd5bf6cb",
      "metadata": {
        "id": "bd5bf6cb"
      },
      "outputs": [],
      "source": [
        "#Remove Duplicates\n",
        "index = imdb[imdb.duplicated() == True].index\n",
        "imdb.drop(index, axis = 0, inplace = True)\n",
        "imdb.reset_index(inplace=True, drop = True)"
      ]
    },
    {
      "cell_type": "markdown",
      "id": "4038dbac",
      "metadata": {
        "id": "4038dbac"
      },
      "source": [
        "### 2.3 Text Normalization\n",
        "\n",
        "#### 2.3.1 Lower-casing the text\n",
        "#### 2.3.2 Stop word removal\n",
        "#### 2.3.3 Number removal\n",
        "#### 2.3.4 Remove punctuations\n",
        "#### 2.3.5 Lemmatization"
      ]
    },
    {
      "cell_type": "code",
      "execution_count": null,
      "id": "641baa4c",
      "metadata": {
        "id": "641baa4c"
      },
      "outputs": [],
      "source": [
        "stop_words = set(stopwords.words(\"english\"))\n",
        "lemmatizer= WordNetLemmatizer()\n",
        "\n",
        "def lemmatization(text):\n",
        "    lemmatizer= WordNetLemmatizer()\n",
        "\n",
        "    text = text.split()\n",
        "\n",
        "    text=[lemmatizer.lemmatize(y) for y in text]\n",
        "\n",
        "    return \" \" .join(text)\n",
        "\n",
        "def remove_stop_words(text):\n",
        "\n",
        "    Text=[i for i in str(text).split() if i not in stop_words]\n",
        "    return \" \".join(Text)\n",
        "\n",
        "def remove_numbers(text):\n",
        "    text=''.join([i for i in text if not i.isdigit()])\n",
        "    return text\n",
        "\n",
        "def lower(text):\n",
        "\n",
        "    text = text.split()\n",
        "    text=[y.lower() for y in text]\n",
        "    return \" \" .join(text)\n",
        "\n",
        "def remove_punctuations(text):\n",
        "    ## Remove punctuations\n",
        "    text = re.sub('[%s]' % re.escape(\"\"\"!\"#$%&'()*+,،-./:;<=>؟?@[\\]^_`{|}~\"\"\"), ' ', text)\n",
        "    text = text.replace('؛',\"\", )\n",
        "\n",
        "    ## Remove extra whitespace\n",
        "    text = re.sub('\\s+', ' ', text)\n",
        "    text =  \" \".join(text.split())\n",
        "    return text.strip()\n",
        "\n",
        "def remove_urls(text):\n",
        "    url_pattern = re.compile(r'https?://\\S+|www\\.\\S+')\n",
        "    return url_pattern.sub(r'', text)\n",
        "\n",
        "def preprocessed_text(df):\n",
        "    df.review=df.review.apply(lambda review : lower(review))\n",
        "    df.review=df.review.apply(lambda review : remove_stop_words(review))\n",
        "    df.review=df.review.apply(lambda review : remove_numbers(review))\n",
        "    df.review=df.review.apply(lambda review : remove_punctuations(review))\n",
        "    df.review=df.review.apply(lambda review : remove_urls(review))\n",
        "    df.review=df.review.apply(lambda review : lemmatization(review))\n",
        "\n",
        "    return df.review"
      ]
    },
    {
      "cell_type": "markdown",
      "id": "690af636",
      "metadata": {
        "id": "690af636"
      },
      "source": [
        "### 2.4 Splitting dataset into training and testing"
      ]
    },
    {
      "cell_type": "code",
      "execution_count": null,
      "id": "749de3ba",
      "metadata": {
        "colab": {
          "base_uri": "https://localhost:8080/"
        },
        "id": "749de3ba",
        "outputId": "f8580504-8967-4fc1-c689-14c93dd13242"
      },
      "outputs": [
        {
          "output_type": "execute_result",
          "data": {
            "text/plain": [
              "0    one reviewer mentioned watching oz episode hoo...\n",
              "1    wonderful little production br br the filming ...\n",
              "2    thought wonderful way spend time hot summer we...\n",
              "3    basically there s family little boy jake think...\n",
              "4    petter mattei s love time money visually stunn...\n",
              "Name: review, dtype: object"
            ]
          },
          "metadata": {},
          "execution_count": 14
        }
      ],
      "source": [
        "X = preprocessed_text(imdb)\n",
        "y = imdb['sentiment']\n",
        "\n",
        "X.head()"
      ]
    },
    {
      "cell_type": "code",
      "execution_count": null,
      "id": "0046ba02",
      "metadata": {
        "id": "0046ba02"
      },
      "outputs": [],
      "source": [
        "# Train Test Splits\n",
        "X_train, X_test, y_train, y_test = train_test_split(X, y, test_size=0.2, random_state=0, stratify = y)"
      ]
    },
    {
      "cell_type": "markdown",
      "id": "fe1ea6fd",
      "metadata": {
        "id": "fe1ea6fd"
      },
      "source": [
        "### 2.5 Count Vectorizer to convert to Bag of Words (BoW)"
      ]
    },
    {
      "cell_type": "code",
      "execution_count": null,
      "id": "684dde28",
      "metadata": {
        "id": "684dde28"
      },
      "outputs": [],
      "source": [
        "cv = CountVectorizer()\n",
        "X_train_cv= cv.fit_transform(X_train)\n",
        "X_train_cv.shape\n",
        "X_test_cv=cv.transform(X_test)"
      ]
    },
    {
      "cell_type": "markdown",
      "id": "42b966c8",
      "metadata": {
        "id": "42b966c8"
      },
      "source": [
        "## 3. Models"
      ]
    },
    {
      "cell_type": "code",
      "source": [
        "performance_metrics = {}"
      ],
      "metadata": {
        "id": "szfp84ZxX7HM"
      },
      "id": "szfp84ZxX7HM",
      "execution_count": null,
      "outputs": []
    },
    {
      "cell_type": "markdown",
      "id": "b0d5178a",
      "metadata": {
        "id": "b0d5178a"
      },
      "source": [
        "### 3.1. Decision Tree (DT)"
      ]
    },
    {
      "cell_type": "markdown",
      "source": [
        "#### 3.1.1 Hyptertuning parameters using RandomizedSearchCV"
      ],
      "metadata": {
        "id": "XtKsdDEfWJ5m"
      },
      "id": "XtKsdDEfWJ5m"
    },
    {
      "cell_type": "code",
      "execution_count": null,
      "id": "630d0ad4",
      "metadata": {
        "colab": {
          "base_uri": "https://localhost:8080/"
        },
        "id": "630d0ad4",
        "outputId": "b0b110fa-add4-4f7e-b7bc-071d4ed1daeb"
      },
      "outputs": [
        {
          "output_type": "stream",
          "name": "stdout",
          "text": [
            "Best Parameters:  {'criterion': 'entropy', 'max_depth': 17, 'min_samples_leaf': 1, 'min_samples_split': 4}\n",
            "Best Score:  0.7373250976931804\n"
          ]
        }
      ],
      "source": [
        "dt = DecisionTreeClassifier()\n",
        "\n",
        "# Parameter Search Grid for RandomSearchCV\n",
        "param_dist = {\n",
        "    'criterion': ['gini', 'entropy'],\n",
        "    'max_depth': randint(1, 20),\n",
        "    'min_samples_split': randint(2, 11),\n",
        "    'min_samples_leaf': randint(1, 10)\n",
        "}\n",
        "\n",
        "random_search_dt = RandomizedSearchCV(estimator=dt, n_iter=10, param_distributions=param_dist, cv=5)\n",
        "\n",
        "random_search_dt.fit(X_train_cv, y_train)\n",
        "\n",
        "performance_metrics[\"dt_best_score\"] = random_search_dt.best_score_\n",
        "performance_metrics[\"dt_best_params\"] = random_search_dt.best_params_\n",
        "\n",
        "print(\"Best Parameters: \", performance_metrics[\"dt_best_params\"])\n",
        "print(\"Best Score: \", performance_metrics[\"dt_best_score\"])"
      ]
    },
    {
      "cell_type": "markdown",
      "source": [
        "#### 3.1.2 Performance on Test Data"
      ],
      "metadata": {
        "id": "YtcNZrynWQyH"
      },
      "id": "YtcNZrynWQyH"
    },
    {
      "cell_type": "code",
      "source": [
        "dt = DecisionTreeClassifier(criterion = performance_metrics[\"dt_best_params\"][\"criterion\"] , max_depth = performance_metrics[\"dt_best_params\"][\"max_depth\"], min_samples_split = performance_metrics[\"dt_best_params\"][\"min_samples_split\"], min_samples_leaf = performance_metrics[\"dt_best_params\"][\"min_samples_leaf\"] )\n",
        "dt.fit(X_train_cv, y_train)\n",
        "y_pred = dt.predict(X_test_cv)\n",
        "dt_classification_report = classification_report(y_test, y_pred, output_dict=True)\n",
        "\n",
        "performance_metrics[\"dt_confusion_matrix\"] = confusion_matrix(y_test, y_pred)\n",
        "performance_metrics[\"dt_test_acc\"] = dt_classification_report[\"accuracy\"]\n",
        "performance_metrics[\"dt_f1_score\"] = dt_classification_report['weighted avg']['f1-score']\n",
        "performance_metrics[\"dt_precision\"] = dt_classification_report['weighted avg']['precision']\n",
        "performance_metrics[\"dt_recall\"] = dt_classification_report['weighted avg']['recall']\n",
        "\n",
        "print('Test Accuracy:',performance_metrics[\"dt_test_acc\"])\n",
        "print('Weighted F1 Score:',performance_metrics[\"dt_f1_score\"])\n",
        "print('Weighted Precision Score:',performance_metrics[\"dt_precision\"])\n",
        "print('Weighted Recall Score:',performance_metrics[\"dt_recall\"])\n"
      ],
      "metadata": {
        "colab": {
          "base_uri": "https://localhost:8080/"
        },
        "id": "L42fq4czLWHJ",
        "outputId": "89d05dd7-333d-47f0-b975-aaded5aa27f4"
      },
      "id": "L42fq4czLWHJ",
      "execution_count": null,
      "outputs": [
        {
          "output_type": "stream",
          "name": "stdout",
          "text": [
            "Test Accuracy: 0.7334879499848744\n",
            "Weighted F1 Score: 0.7318229808409972\n",
            "Weighted Precision Score: 0.7390004460543889\n",
            "Weighted Recall Score: 0.7334879499848744\n"
          ]
        }
      ]
    },
    {
      "cell_type": "markdown",
      "id": "3d005afe",
      "metadata": {
        "id": "3d005afe"
      },
      "source": [
        "### 3.2. Random Forest (RF)"
      ]
    },
    {
      "cell_type": "markdown",
      "source": [
        "#### 3.2.1 Hyptertuning parameters using RandomizedSearchCV"
      ],
      "metadata": {
        "id": "t4Y8IZGma296"
      },
      "id": "t4Y8IZGma296"
    },
    {
      "cell_type": "code",
      "source": [
        "rf = RandomForestClassifier()\n",
        "\n",
        "# Define the parameter distribution for RandomizedSearchCV\n",
        "param_dist = {\n",
        "    'n_estimators': randint(10, 100),\n",
        "    'criterion': ['gini', 'entropy'],\n",
        "    'max_depth': randint(1, 20),\n",
        "    'min_samples_split': randint(2, 11),\n",
        "    'min_samples_leaf': randint(1, 5)\n",
        "}\n",
        "\n",
        "# Create the RandomizedSearchCV object\n",
        "random_search_rf = RandomizedSearchCV(estimator=rf, n_iter=10, param_distributions=param_dist, cv=5)\n",
        "\n",
        "# Fit the RandomizedSearchCV object to the data\n",
        "random_search_rf.fit(X_train_cv, y_train)\n",
        "\n",
        "performance_metrics[\"rf_best_score\"] = random_search_rf.best_score_\n",
        "performance_metrics[\"rf_best_params\"] = random_search_rf.best_params_\n",
        "\n",
        "# # Print the best parameters and best score\n",
        "print(\"Best Parameters: \", performance_metrics[\"rf_best_params\"])\n",
        "print(\"Best Score: \", performance_metrics[\"rf_best_score\"])"
      ],
      "metadata": {
        "colab": {
          "base_uri": "https://localhost:8080/"
        },
        "id": "-78Bo5sMWzHs",
        "outputId": "4e98af38-a917-4cd5-dade-c485ce87963a"
      },
      "id": "-78Bo5sMWzHs",
      "execution_count": null,
      "outputs": [
        {
          "output_type": "stream",
          "name": "stdout",
          "text": [
            "Best Parameters:  {'criterion': 'gini', 'max_depth': 14, 'min_samples_leaf': 4, 'min_samples_split': 10, 'n_estimators': 83}\n",
            "Best Score:  0.8298247825538889\n"
          ]
        }
      ]
    },
    {
      "cell_type": "markdown",
      "source": [
        "#### 3.2.2 Performance on Test Data"
      ],
      "metadata": {
        "id": "nb6myco9bEM0"
      },
      "id": "nb6myco9bEM0"
    },
    {
      "cell_type": "code",
      "execution_count": null,
      "id": "10acfea6",
      "metadata": {
        "colab": {
          "base_uri": "https://localhost:8080/"
        },
        "id": "10acfea6",
        "outputId": "3d0684d3-b17d-4a4a-c221-2df96d2899a6"
      },
      "outputs": [
        {
          "output_type": "stream",
          "name": "stdout",
          "text": [
            "Test Accuracy: 0.8298880709892105\n",
            "Weighted F1 Score: 0.8293375270343987\n",
            "Weighted Precision Score: 0.8338548226921441\n",
            "Weighted Recall Score: 0.8298880709892105\n"
          ]
        }
      ],
      "source": [
        "rf = RandomForestClassifier(n_estimators = performance_metrics[\"rf_best_params\"][\"n_estimators\"], criterion = performance_metrics[\"rf_best_params\"][\"criterion\"] , max_depth = performance_metrics[\"rf_best_params\"][\"max_depth\"], min_samples_split = performance_metrics[\"rf_best_params\"][\"min_samples_split\"], min_samples_leaf = performance_metrics[\"rf_best_params\"][\"min_samples_leaf\"] )\n",
        "rf.fit(X_train_cv, y_train)\n",
        "y_pred = rf.predict(X_test_cv)\n",
        "rf_classification_report = classification_report(y_test, y_pred, output_dict=True)\n",
        "\n",
        "performance_metrics[\"rf_confusion_matrix\"] = confusion_matrix(y_test, y_pred)\n",
        "performance_metrics[\"rf_test_acc\"] = rf_classification_report[\"accuracy\"]\n",
        "performance_metrics[\"rf_f1_score\"] = rf_classification_report['weighted avg']['f1-score']\n",
        "performance_metrics[\"rf_precision\"] = rf_classification_report['weighted avg']['precision']\n",
        "performance_metrics[\"rf_recall\"] = rf_classification_report['weighted avg']['recall']\n",
        "\n",
        "print('Test Accuracy:',performance_metrics[\"rf_test_acc\"])\n",
        "print('Weighted F1 Score:',performance_metrics[\"rf_f1_score\"])\n",
        "print('Weighted Precision Score:',performance_metrics[\"rf_precision\"])\n",
        "print('Weighted Recall Score:',performance_metrics[\"rf_recall\"])"
      ]
    },
    {
      "cell_type": "markdown",
      "source": [
        "### 3.3. Perceptron (PPN)"
      ],
      "metadata": {
        "id": "TeB_H9rZXjEw"
      },
      "id": "TeB_H9rZXjEw"
    },
    {
      "cell_type": "markdown",
      "source": [
        "#### 3.3.1 Hyptertuning parameters using RandomizedSearchCV"
      ],
      "metadata": {
        "id": "UckU32wLjqXY"
      },
      "id": "UckU32wLjqXY"
    },
    {
      "cell_type": "code",
      "execution_count": null,
      "id": "751f1264",
      "metadata": {
        "colab": {
          "base_uri": "https://localhost:8080/"
        },
        "id": "751f1264",
        "outputId": "570ab986-52f1-42c0-8009-7fe5673ffd1c"
      },
      "outputs": [
        {
          "output_type": "stream",
          "name": "stdout",
          "text": [
            "Best Parameters:  {'alpha': 9.280080864073793e-05, 'eta0': 0.518152548941889, 'penalty': 'l1'}\n",
            "Best Score:  0.8458590697088113\n"
          ]
        }
      ],
      "source": [
        "#Perceptron\n",
        "ppn = Perceptron()\n",
        "\n",
        "# Parameter Search Grid for RandomSearchCV\n",
        "param_grid = {\n",
        "    'eta0': uniform(loc=0, scale=1),\n",
        "    'penalty': ['l1', 'l2'],\n",
        "    'alpha': uniform(loc=0, scale=0.001)\n",
        "}\n",
        "\n",
        "random_search_ppn = RandomizedSearchCV(estimator=ppn, param_distributions=param_grid, n_iter=10, random_state=1)\n",
        "random_search_ppn.fit(X_train_cv, y_train)\n",
        "\n",
        "performance_metrics[\"ppn_best_score\"] = random_search_ppn.best_score_\n",
        "performance_metrics[\"ppn_best_params\"] = random_search_ppn.best_params_\n",
        "\n",
        "print(\"Best Parameters: \", performance_metrics[\"ppn_best_params\"])\n",
        "print(\"Best Score: \", performance_metrics[\"ppn_best_score\"])"
      ]
    },
    {
      "cell_type": "markdown",
      "source": [
        "#### 3.3.2 Performance on Test Data"
      ],
      "metadata": {
        "id": "UWsa_hJijnrI"
      },
      "id": "UWsa_hJijnrI"
    },
    {
      "cell_type": "code",
      "source": [
        "ppn = Perceptron(eta0 = performance_metrics[\"ppn_best_params\"][\"eta0\"], penalty = performance_metrics[\"ppn_best_params\"][\"penalty\"] , alpha = performance_metrics[\"ppn_best_params\"][\"alpha\"])\n",
        "ppn.fit(X_train_cv, y_train)\n",
        "y_pred = ppn.predict(X_test_cv)\n",
        "ppn_classification_report = classification_report(y_test, y_pred, output_dict=True)\n",
        "\n",
        "performance_metrics[\"ppn_confusion_matrix\"] = confusion_matrix(y_test, y_pred)\n",
        "performance_metrics[\"ppn_test_acc\"] = ppn_classification_report[\"accuracy\"]\n",
        "performance_metrics[\"ppn_f1_score\"] = ppn_classification_report['weighted avg']['f1-score']\n",
        "performance_metrics[\"ppn_precision\"] = ppn_classification_report['weighted avg']['precision']\n",
        "performance_metrics[\"ppn_recall\"] = ppn_classification_report['weighted avg']['recall']\n",
        "\n",
        "print('Test Accuracy:',performance_metrics[\"ppn_test_acc\"])\n",
        "print('Weighted F1 Score:',performance_metrics[\"ppn_f1_score\"])\n",
        "print('Weighted Precision Score:',performance_metrics[\"ppn_precision\"])\n",
        "print('Weighted Recall Score:',performance_metrics[\"ppn_recall\"])"
      ],
      "metadata": {
        "colab": {
          "base_uri": "https://localhost:8080/"
        },
        "id": "Y-eZskO1isDt",
        "outputId": "2e9f8f0b-a2f8-4114-d647-53e18099514c"
      },
      "id": "Y-eZskO1isDt",
      "execution_count": null,
      "outputs": [
        {
          "output_type": "stream",
          "name": "stdout",
          "text": [
            "Test Accuracy: 0.8468286780276293\n",
            "Weighted F1 Score: 0.846716859228496\n",
            "Weighted Precision Score: 0.848027194771079\n",
            "Weighted Recall Score: 0.8468286780276293\n"
          ]
        }
      ]
    },
    {
      "cell_type": "markdown",
      "source": [
        "### 3.4. Multi-layer Perceptron (MLP)"
      ],
      "metadata": {
        "id": "zy8weJXujxQw"
      },
      "id": "zy8weJXujxQw"
    },
    {
      "cell_type": "markdown",
      "source": [
        "#### 3.4.1 Hyptertuning parameters using RandomizedSearchCV"
      ],
      "metadata": {
        "id": "5atWIJFNkJds"
      },
      "id": "5atWIJFNkJds"
    },
    {
      "cell_type": "code",
      "execution_count": null,
      "id": "0c31f97d",
      "metadata": {
        "colab": {
          "base_uri": "https://localhost:8080/"
        },
        "id": "0c31f97d",
        "outputId": "7fbcb833-af6f-4629-c19f-fd53f991d68b"
      },
      "outputs": [
        {
          "output_type": "stream",
          "name": "stdout",
          "text": [
            "Best Parameters:  {'solver': 'adam', 'max_iter': 10, 'learning_rate': 'adaptive', 'hidden_layer_sizes': (10,), 'activation': 'relu'}\n",
            "Best Score:  0.8813311483675784\n"
          ]
        }
      ],
      "source": [
        "mlp = MLPClassifier()\n",
        "\n",
        "# Parameter Search Grid for RandomSearchCV\n",
        "param_grid = {\n",
        "    'hidden_layer_sizes': [(10,),(20,)],\n",
        "    'activation': ['relu'],\n",
        "    'solver': ['adam', 'sgd'],\n",
        "    'max_iter' : [10, 15],\n",
        "    'learning_rate': ['adaptive']\n",
        "}\n",
        "\n",
        "random_search_mlp = RandomizedSearchCV(estimator=mlp, param_distributions=param_grid, n_iter=5, random_state=1)\n",
        "random_search_mlp.fit(X_train_cv, y_train)\n",
        "\n",
        "performance_metrics[\"mlp_best_score\"] = random_search_mlp.best_score_\n",
        "performance_metrics[\"mlp_best_params\"] = random_search_mlp.best_params_\n",
        "\n",
        "print(\"Best Parameters: \", performance_metrics[\"mlp_best_params\"])\n",
        "print(\"Best Score: \", performance_metrics[\"mlp_best_score\"])"
      ]
    },
    {
      "cell_type": "markdown",
      "source": [
        "#### 3.4.2 Performance on Test Data"
      ],
      "metadata": {
        "id": "k9Wjo8XPkKJ0"
      },
      "id": "k9Wjo8XPkKJ0"
    },
    {
      "cell_type": "code",
      "source": [
        "mlp = MLPClassifier(hidden_layer_sizes = performance_metrics[\"mlp_best_params\"][\"hidden_layer_sizes\"], activation = performance_metrics[\"mlp_best_params\"][\"activation\"] , solver = performance_metrics[\"mlp_best_params\"][\"solver\"], learning_rate = performance_metrics[\"mlp_best_params\"][\"learning_rate\"], max_iter = performance_metrics[\"mlp_best_params\"][\"max_iter\"])\n",
        "mlp.fit(X_train_cv, y_train)\n",
        "y_pred = mlp.predict(X_test_cv)\n",
        "mlp_classification_report = classification_report(y_test, y_pred, output_dict=True)\n",
        "\n",
        "performance_metrics[\"mlp_confusion_matrix\"] = confusion_matrix(y_test, y_pred)\n",
        "performance_metrics[\"mlp_test_acc\"] = mlp_classification_report[\"accuracy\"]\n",
        "performance_metrics[\"mlp_f1_score\"] = mlp_classification_report['weighted avg']['f1-score']\n",
        "performance_metrics[\"mlp_precision\"] = mlp_classification_report['weighted avg']['precision']\n",
        "performance_metrics[\"mlp_recall\"] = mlp_classification_report['weighted avg']['recall']\n",
        "\n",
        "print('Test Accuracy:',performance_metrics[\"mlp_test_acc\"])\n",
        "print('Weighted F1 Score:',performance_metrics[\"mlp_f1_score\"])\n",
        "print('Weighted Precision Score:',performance_metrics[\"mlp_precision\"])\n",
        "print('Weighted Recall Score:',performance_metrics[\"mlp_recall\"])"
      ],
      "metadata": {
        "colab": {
          "base_uri": "https://localhost:8080/"
        },
        "id": "Av98pRg7kIys",
        "outputId": "363e0c67-c15f-426d-af87-4d0b649a5c3f"
      },
      "id": "Av98pRg7kIys",
      "execution_count": null,
      "outputs": [
        {
          "output_type": "stream",
          "name": "stdout",
          "text": [
            "Test Accuracy: 0.8879701522637895\n",
            "Weighted F1 Score: 0.887961003927921\n",
            "Weighted Precision Score: 0.8880481150494136\n",
            "Weighted Recall Score: 0.8879701522637895\n"
          ]
        }
      ]
    },
    {
      "cell_type": "markdown",
      "source": [
        "### 3.5. K-Nearest Neighbours (KNN)"
      ],
      "metadata": {
        "id": "N75_J3ljk99J"
      },
      "id": "N75_J3ljk99J"
    },
    {
      "cell_type": "markdown",
      "source": [
        "#### 3.5.1 Hyptertuning parameters using RandomizedSearchCV"
      ],
      "metadata": {
        "id": "yzZsl4C9HKi8"
      },
      "id": "yzZsl4C9HKi8"
    },
    {
      "cell_type": "code",
      "execution_count": null,
      "id": "7e88fdc8",
      "metadata": {
        "colab": {
          "base_uri": "https://localhost:8080/",
          "height": 449
        },
        "id": "7e88fdc8",
        "outputId": "95f76102-7098-4cd0-b7f1-d589f83b086b"
      },
      "outputs": [
        {
          "output_type": "display_data",
          "data": {
            "text/plain": [
              "<Figure size 640x480 with 1 Axes>"
            ],
            "image/png": "[encoded data removed]"
          },
          "metadata": {}
        }
      ],
      "source": [
        "# Finding the optimal numbeer of neighbours for KNN\n",
        "knn_acc = []\n",
        "for k in range(1, 21):\n",
        "    elbow_knn = KNeighborsClassifier(n_neighbors=k)\n",
        "    elbow_knn.fit(X_train_cv, y_train)\n",
        "    knn_acc.append(elbow_knn.score(X_test_cv, y_test))\n",
        "\n",
        "plt.plot(range(1, 21), knn_acc, marker='o')\n",
        "plt.xlabel('Number of neighbors (k)')\n",
        "plt.ylabel('Accuracy')\n",
        "plt.show()"
      ]
    },
    {
      "cell_type": "code",
      "source": [
        "k_neighbour = knn_acc.index(max(knn_acc))\n",
        "print('The neighbour:', k_neighbour, 'is responsible for the highest accuracy:', max(knn_acc))"
      ],
      "metadata": {
        "colab": {
          "base_uri": "https://localhost:8080/"
        },
        "id": "czfkLJkZAYYl",
        "outputId": "6ad07f55-9e1d-4685-9284-f96dca7476d6"
      },
      "id": "czfkLJkZAYYl",
      "execution_count": null,
      "outputs": [
        {
          "output_type": "stream",
          "name": "stdout",
          "text": [
            "The neighbour: 18 is responsible for the highest accuracy: 0.6469698497529495\n"
          ]
        }
      ]
    },
    {
      "cell_type": "code",
      "execution_count": null,
      "id": "3b03b1f6",
      "metadata": {
        "colab": {
          "base_uri": "https://localhost:8080/"
        },
        "id": "3b03b1f6",
        "outputId": "1cdb3ff7-804a-4c7f-a222-d222e3c4c951"
      },
      "outputs": [
        {
          "output_type": "stream",
          "name": "stdout",
          "text": [
            "Best Parameters:  {'p': 2, 'n_neighbors': 18}\n",
            "Best Score:  0.6339341989159208\n"
          ]
        }
      ],
      "source": [
        "knn = KNeighborsClassifier()\n",
        "\n",
        "# Parameter Search Grid for RandomSearchCV\n",
        "param_grid = {\n",
        "    'n_neighbors': [k_neighbour],\n",
        "    'p': [1, 2]\n",
        "}\n",
        "\n",
        "random_search_knn = RandomizedSearchCV(estimator=knn, param_distributions=param_grid, n_iter=2, random_state=1)\n",
        "random_search_knn.fit(X_train_cv, y_train)\n",
        "\n",
        "performance_metrics[\"knn_best_score\"] = random_search_knn.best_score_\n",
        "performance_metrics[\"knn_best_params\"] = random_search_knn.best_params_\n",
        "\n",
        "print(\"Best Parameters: \", performance_metrics[\"knn_best_params\"])\n",
        "print(\"Best Score: \", performance_metrics[\"knn_best_score\"])"
      ]
    },
    {
      "cell_type": "markdown",
      "source": [
        "#### 3.5.2 Performance on Test Data"
      ],
      "metadata": {
        "id": "jKwumzYdHGDh"
      },
      "id": "jKwumzYdHGDh"
    },
    {
      "cell_type": "code",
      "source": [
        "knn = KNeighborsClassifier(n_neighbors = performance_metrics[\"knn_best_params\"][\"n_neighbors\"], p = performance_metrics[\"knn_best_params\"][\"p\"])\n",
        "knn.fit(X_train_cv, y_train)\n",
        "y_pred = knn.predict(X_test_cv)\n",
        "knn_classification_report = classification_report(y_test, y_pred, output_dict=True)\n",
        "\n",
        "performance_metrics[\"knn_confusion_matrix\"] = confusion_matrix(y_test, y_pred)\n",
        "performance_metrics[\"knn_test_acc\"] = knn_classification_report[\"accuracy\"]\n",
        "performance_metrics[\"knn_f1_score\"] = knn_classification_report['weighted avg']['f1-score']\n",
        "performance_metrics[\"knn_precision\"] = knn_classification_report['weighted avg']['precision']\n",
        "performance_metrics[\"knn_recall\"] = knn_classification_report['weighted avg']['recall']\n",
        "\n",
        "print('Test Accuracy:',performance_metrics[\"knn_test_acc\"])\n",
        "print('Weighted F1 Score:',performance_metrics[\"knn_f1_score\"])\n",
        "print('Weighted Precision Score:',performance_metrics[\"knn_precision\"])\n",
        "print('Weighted Recall Score:',performance_metrics[\"knn_recall\"])"
      ],
      "metadata": {
        "colab": {
          "base_uri": "https://localhost:8080/"
        },
        "id": "vRmASZezoxcD",
        "outputId": "5b8b59e4-e2a2-41e4-8ad0-f56b7999b9c5"
      },
      "id": "vRmASZezoxcD",
      "execution_count": null,
      "outputs": [
        {
          "output_type": "stream",
          "name": "stdout",
          "text": [
            "Test Accuracy: 0.6377936876071393\n",
            "Weighted F1 Score: 0.63102645427163\n",
            "Weighted Precision Score: 0.6494143970917509\n",
            "Weighted Recall Score: 0.6377936876071393\n"
          ]
        }
      ]
    },
    {
      "cell_type": "markdown",
      "source": [
        "### 3.6. Support Vector Machine (SVM)"
      ],
      "metadata": {
        "id": "CJ_C_brlvjYj"
      },
      "id": "CJ_C_brlvjYj"
    },
    {
      "cell_type": "markdown",
      "source": [
        "#### 3.6.1 Hyptertuning parameters using RandomizedSearchCV"
      ],
      "metadata": {
        "id": "qJHA-fwZHYVV"
      },
      "id": "qJHA-fwZHYVV"
    },
    {
      "cell_type": "code",
      "source": [
        "svm = LinearSVC()\n",
        "\n",
        "# Parameter Search Grid for RandomSearchCV\n",
        "param_grid = {\n",
        "    'C': randint(1, 100),\n",
        "    'loss': ['hinge', 'squared_hinge'],\n",
        "    'max_iter': randint(100, 1000),\n",
        "}\n",
        "\n",
        "random_search_svm = RandomizedSearchCV(estimator=svm, param_distributions=param_grid, n_iter=10, random_state=1)\n",
        "random_search_svm.fit(X_train_cv, y_train)\n",
        "\n",
        "performance_metrics[\"svm_best_score\"] = random_search_svm.best_score_\n",
        "performance_metrics[\"svm_best_params\"] = random_search_svm.best_params_\n",
        "\n",
        "print(\"Best Parameters: \", performance_metrics[\"svm_best_params\"])\n",
        "print(\"Best Score: \", performance_metrics[\"svm_best_score\"])"
      ],
      "metadata": {
        "colab": {
          "base_uri": "https://localhost:8080/"
        },
        "id": "Bsm6EGbE_-kH",
        "outputId": "e442d5ae-77cc-4692-cc50-db6ba4c8cec9"
      },
      "id": "Bsm6EGbE_-kH",
      "execution_count": null,
      "outputs": [
        {
          "output_type": "stream",
          "name": "stdout",
          "text": [
            "Best Parameters:  {'C': 7, 'loss': 'squared_hinge', 'max_iter': 278}\n",
            "Best Score:  0.8535232572797176\n"
          ]
        }
      ]
    },
    {
      "cell_type": "markdown",
      "source": [
        "#### 3.6.2 Performance on Test Data"
      ],
      "metadata": {
        "id": "yJmlR5d-HdMz"
      },
      "id": "yJmlR5d-HdMz"
    },
    {
      "cell_type": "code",
      "execution_count": null,
      "id": "7c3fba1f",
      "metadata": {
        "colab": {
          "base_uri": "https://localhost:8080/"
        },
        "id": "7c3fba1f",
        "outputId": "271df4ad-23d4-47e7-e2b8-9e58df3db4a3"
      },
      "outputs": [
        {
          "output_type": "stream",
          "name": "stdout",
          "text": [
            "Test Accuracy: 0.8598366441464153\n",
            "Weighted F1 Score: 0.8598361310661582\n",
            "Weighted Precision Score: 0.8598367371004011\n",
            "Weighted Recall Score: 0.8598366441464153\n"
          ]
        }
      ],
      "source": [
        "svm = LinearSVC(C = performance_metrics[\"svm_best_params\"][\"C\"], loss = performance_metrics[\"svm_best_params\"][\"loss\"], max_iter = performance_metrics[\"svm_best_params\"][\"max_iter\"])\n",
        "svm.fit(X_train_cv, y_train)\n",
        "y_pred = svm.predict(X_test_cv)\n",
        "svm_classification_report = classification_report(y_test, y_pred, output_dict=True)\n",
        "\n",
        "performance_metrics[\"svm_confusion_matrix\"] = confusion_matrix(y_test, y_pred)\n",
        "performance_metrics[\"svm_test_acc\"] = svm_classification_report[\"accuracy\"]\n",
        "performance_metrics[\"svm_f1_score\"] = svm_classification_report['weighted avg']['f1-score']\n",
        "performance_metrics[\"svm_precision\"] = svm_classification_report['weighted avg']['precision']\n",
        "performance_metrics[\"svm_recall\"] = svm_classification_report['weighted avg']['recall']\n",
        "\n",
        "print('Test Accuracy:',performance_metrics[\"svm_test_acc\"])\n",
        "print('Weighted F1 Score:',performance_metrics[\"svm_f1_score\"])\n",
        "print('Weighted Precision Score:',performance_metrics[\"svm_precision\"])\n",
        "print('Weighted Recall Score:',performance_metrics[\"svm_recall\"])"
      ]
    },
    {
      "cell_type": "markdown",
      "source": [
        "### 4. Results and Comparison"
      ],
      "metadata": {
        "id": "wTABdXAZHhsD"
      },
      "id": "wTABdXAZHhsD"
    },
    {
      "cell_type": "markdown",
      "source": [
        "#### 4.1 ROC Curve"
      ],
      "metadata": {
        "id": "EYnxzXx8HuXt"
      },
      "id": "EYnxzXx8HuXt"
    },
    {
      "cell_type": "code",
      "execution_count": null,
      "id": "ad1cbeaa",
      "metadata": {
        "colab": {
          "base_uri": "https://localhost:8080/",
          "height": 472
        },
        "id": "ad1cbeaa",
        "outputId": "7f1d6c6f-927c-4d92-9b12-0e1c2c541f4b"
      },
      "outputs": [
        {
          "output_type": "display_data",
          "data": {
            "text/plain": [
              "<Figure size 640x480 with 1 Axes>"
            ],
            "image/png": "[encoded data removed]"
          },
          "metadata": {}
        }
      ],
      "source": [
        "# Predict probabilities for test data using both models\n",
        "y_dt_prob = dt.predict_proba(X_test_cv)[:,1]\n",
        "y_rf_prob = knn.predict_proba(X_test_cv)[:,1]\n",
        "y_ppn_prob = ppn.decision_function(X_test_cv)\n",
        "y_mlp_prob = mlp.predict_proba(X_test_cv)[:,1]\n",
        "y_knn_prob = knn.predict_proba(X_test_cv)[:,1]\n",
        "y_svm_prob = svm.decision_function(X_test_cv)\n",
        "\n",
        "# Calculate the FPR and TPR for different probability thresholds for each model\n",
        "fpr_dt, tpr_dt, _ = roc_curve(y_test, y_dt_prob)\n",
        "fpr_rf, tpr_rf, _ = roc_curve(y_test, y_rf_prob)\n",
        "fpr_ppn, tpr_ppn, _ = roc_curve(y_test, y_ppn_prob)\n",
        "fpr_mlp, tpr_mlp, _ = roc_curve(y_test, y_mlp_prob)\n",
        "fpr_knn, tpr_knn, _ = roc_curve(y_test, y_knn_prob)\n",
        "fpr_svm, tpr_svm, _ = roc_curve(y_test, y_svm_prob)\n",
        "\n",
        "# Calculate the AUC scores for each model\n",
        "auc_dt = auc(fpr_dt, tpr_dt)\n",
        "auc_rf = auc(fpr_rf, tpr_rf)\n",
        "auc_ppn = auc(fpr_ppn, tpr_ppn)\n",
        "auc_mlp = auc(fpr_mlp, tpr_mlp)\n",
        "auc_knn = auc(fpr_knn, tpr_knn)\n",
        "auc_svm = auc(fpr_svm, tpr_svm)\n",
        "\n",
        "# Plot the ROC curves for both models\n",
        "plt.plot(fpr_dt, tpr_dt, label='DT (AUC = %0.2f)' % auc_dt)\n",
        "plt.plot(fpr_rf, tpr_rf, label='RF (AUC = %0.2f)' % auc_rf)\n",
        "plt.plot(fpr_ppn, tpr_ppn, label='PPN (AUC = %0.2f)' % auc_ppn)\n",
        "plt.plot(fpr_mlp, tpr_mlp, label='MLP (AUC = %0.2f)' % auc_mlp)\n",
        "plt.plot(fpr_knn, tpr_knn, label='KNN (AUC = %0.2f)' % auc_knn)\n",
        "plt.plot(fpr_svm, tpr_svm, label='SVM (AUC = %0.2f)' % auc_svm)\n",
        "\n",
        "# # Set the title and axis labels\n",
        "plt.title('Receiver Operating Characteristic')\n",
        "plt.xlabel('False Positive Rate')\n",
        "plt.ylabel('True Positive Rate')\n",
        "\n",
        "# # Add a legend and show the plot\n",
        "plt.legend()\n",
        "plt.show()"
      ]
    },
    {
      "cell_type": "markdown",
      "source": [
        "#### 4.2 Comparing Cross Validated Accuracy and Testing Accuracy"
      ],
      "metadata": {
        "id": "kpm-9jD5P00o"
      },
      "id": "kpm-9jD5P00o"
    },
    {
      "cell_type": "code",
      "source": [
        "x = np.arange(1, 7)\n",
        "y1 = [performance_metrics[\"dt_best_score\"], performance_metrics[\"rf_best_score\"], performance_metrics[\"ppn_best_score\"],\n",
        "      performance_metrics[\"mlp_best_score\"], performance_metrics[\"knn_best_score\"], performance_metrics[\"svm_best_score\"]]\n",
        "\n",
        "y2 = [performance_metrics[\"dt_test_acc\"], performance_metrics[\"rf_test_acc\"], performance_metrics[\"ppn_test_acc\"],\n",
        "      performance_metrics[\"mlp_test_acc\"], performance_metrics[\"knn_test_acc\"], performance_metrics[\"svm_test_acc\"]]\n",
        "\n",
        "width = 0.2\n",
        "\n",
        "plt.figure(figsize=(6, 6))\n",
        "\n",
        "# Plot Grouped-Bar Chart for comparison\n",
        "plt.bar(x, y1, width, color='orange')\n",
        "plt.bar(x+0.2, y2, width, color='green')\n",
        "\n",
        "# Add labels to the bars\n",
        "for i, (a, b) in enumerate(zip(y1, y2)):\n",
        "    plt.annotate(\" \" +str(round(a, 2)), xy=(x[i], a), ha='center', va='bottom', color='black', rotation='vertical')\n",
        "    plt.annotate(\" \" +str(round(b, 2)), xy=(x[i] + 0.2, b), ha='center', va='bottom', color='black', rotation='vertical')\n",
        "\n",
        "plt.xticks(x, ['DT', 'RF', 'PPN', 'MLP', 'KNN', 'SVM'])\n",
        "plt.xlabel(\"Models\")\n",
        "plt.ylabel(\"Scores\")\n",
        "plt.legend([\"Mean Cross Validated Score\", \"Test Accuracy\"], loc='upper center', bbox_to_anchor=(0.5, -0.1), ncol=3)\n",
        "\n",
        "plt.show()"
      ],
      "metadata": {
        "colab": {
          "base_uri": "https://localhost:8080/",
          "height": 590
        },
        "id": "U7TfvaO9NTOI",
        "outputId": "9ec46b8c-2948-44b4-d5cf-0da24dd1e262"
      },
      "id": "U7TfvaO9NTOI",
      "execution_count": null,
      "outputs": [
        {
          "output_type": "display_data",
          "data": {
            "text/plain": [
              "<Figure size 600x600 with 1 Axes>"
            ],
            "image/png": "[encoded data removed]"
          },
          "metadata": {}
        }
      ]
    },
    {
      "cell_type": "markdown",
      "source": [
        "#### 4.3 Comparing F1 Score, Recall and Precision on Test Data"
      ],
      "metadata": {
        "id": "RxhWz2gsQD6t"
      },
      "id": "RxhWz2gsQD6t"
    },
    {
      "cell_type": "code",
      "source": [
        "# Sample data\n",
        "x = np.arange(1, 7)\n",
        "y3 = [performance_metrics[\"dt_f1_score\"], performance_metrics[\"rf_f1_score\"], performance_metrics[\"ppn_f1_score\"],\n",
        "      performance_metrics[\"mlp_f1_score\"], performance_metrics[\"knn_f1_score\"], performance_metrics[\"svm_f1_score\"]]\n",
        "\n",
        "y4 = [performance_metrics[\"dt_recall\"], performance_metrics[\"rf_recall\"], performance_metrics[\"ppn_recall\"],\n",
        "      performance_metrics[\"mlp_recall\"], performance_metrics[\"knn_recall\"], performance_metrics[\"svm_recall\"]]\n",
        "\n",
        "y5 = [performance_metrics[\"dt_precision\"], performance_metrics[\"rf_precision\"], performance_metrics[\"ppn_precision\"],\n",
        "      performance_metrics[\"mlp_precision\"], performance_metrics[\"knn_precision\"], performance_metrics[\"svm_precision\"]]\n",
        "\n",
        "width = 0.2\n",
        "\n",
        "plt.figure(figsize=(6, 6))\n",
        "\n",
        "# Plot Grouped-Bar Chart for comparison\n",
        "plt.bar(x, y3, width, color='orange')\n",
        "plt.bar(x + 0.2, y4, width, color='green')\n",
        "plt.bar(x + 0.4, y5, width, color='blue')\n",
        "\n",
        "# Add labels to the bars\n",
        "for i, (a, b, c) in enumerate(zip(y3, y4, y5)):\n",
        "    plt.annotate(\" \" +str(round(a, 2)), xy=(x[i], a), ha='center', va='bottom', color='black', rotation='vertical')\n",
        "    plt.annotate(\" \" +str(round(b, 2)), xy=(x[i] + 0.2, b), ha='center', va='bottom', color='black', rotation='vertical')\n",
        "    plt.annotate(\" \" +str(round(c, 2)), xy=(x[i] + 0.4, c), ha='center', va='bottom', color='black', rotation='vertical')\n",
        "\n",
        "plt.xticks(x, ['DT', 'RF', 'PPN', 'MLP', 'KNN', 'SVM'])\n",
        "plt.xlabel(\"Models\")\n",
        "plt.ylabel(\"Scores\")\n",
        "plt.legend([\"F1 Score\", \"Recall\", \"Precision\"], loc='upper center', bbox_to_anchor=(0.5, -0.1), ncol=3)\n",
        "plt.show()\n"
      ],
      "metadata": {
        "id": "wQxaB5BNPEP3",
        "colab": {
          "base_uri": "https://localhost:8080/",
          "height": 590
        },
        "outputId": "93ac082a-e50e-439e-9b71-5b49565d7424"
      },
      "id": "wQxaB5BNPEP3",
      "execution_count": null,
      "outputs": [
        {
          "output_type": "display_data",
          "data": {
            "text/plain": [
              "<Figure size 600x600 with 1 Axes>"
            ],
            "image/png": "[encoded data removed]"
          },
          "metadata": {}
        }
      ]
    },
    {
      "cell_type": "markdown",
      "source": [
        "#### 4.4 Summary of Performance Metrics for Models"
      ],
      "metadata": {
        "id": "ygbWZ3cbQC6O"
      },
      "id": "ygbWZ3cbQC6O"
    },
    {
      "cell_type": "code",
      "source": [
        "data = {\n",
        "    'Models' : ['Decision Tree', 'Random Forest', 'Perceptron', 'Multi-layer Perceptron', 'K Nearest Neighbours', 'Support Vector Machine'],\n",
        "    'Mean Cross Val Score': y1,\n",
        "    'Test Accuracy': y2,\n",
        "    'F1 Score': y3,\n",
        "    'Recall' : y4,\n",
        "    'Precision': y5,\n",
        "}\n",
        "\n",
        "summary_results = pd.DataFrame(data)\n",
        "summary_results.head()"
      ],
      "metadata": {
        "colab": {
          "base_uri": "https://localhost:8080/",
          "height": 206
        },
        "id": "dqPOGlNSQNtp",
        "outputId": "c799dad9-8ea2-4ae8-b5bd-ddf8a448edc1"
      },
      "id": "dqPOGlNSQNtp",
      "execution_count": null,
      "outputs": [
        {
          "output_type": "execute_result",
          "data": {
            "text/plain": [
              "                   Models  Mean Cross Val Score  Test Accuracy  F1 Score  \\\n",
              "0           Decision Tree              0.737325       0.733488  0.731823   \n",
              "1           Random Forest              0.829825       0.829888  0.829338   \n",
              "2              Perceptron              0.845859       0.846829  0.846717   \n",
              "3  Multi-layer Perceptron              0.881331       0.887970  0.887961   \n",
              "4    K Nearest Neighbours              0.633934       0.637794  0.631026   \n",
              "\n",
              "     Recall  Precision  \n",
              "0  0.733488   0.739000  \n",
              "1  0.829888   0.833855  \n",
              "2  0.846829   0.848027  \n",
              "3  0.887970   0.888048  \n",
              "4  0.637794   0.649414  "
            ],
            "text/html": [
              "\n",
              "  <div id=\"df-d57f15db-e4f4-4fa6-ac97-0be8e5cd6280\">\n",
              "    <div class=\"colab-df-container\">\n",
              "      <div>\n",
              "<style scoped>\n",
              "    .dataframe tbody tr th:only-of-type {\n",
              "        vertical-align: middle;\n",
              "    }\n",
              "\n",
              "    .dataframe tbody tr th {\n",
              "        vertical-align: top;\n",
              "    }\n",
              "\n",
              "    .dataframe thead th {\n",
              "        text-align: right;\n",
              "    }\n",
              "</style>\n",
              "<table border=\"1\" class=\"dataframe\">\n",
              "  <thead>\n",
              "    <tr style=\"text-align: right;\">\n",
              "      <th></th>\n",
              "      <th>Models</th>\n",
              "      <th>Mean Cross Val Score</th>\n",
              "      <th>Test Accuracy</th>\n",
              "      <th>F1 Score</th>\n",
              "      <th>Recall</th>\n",
              "      <th>Precision</th>\n",
              "    </tr>\n",
              "  </thead>\n",
              "  <tbody>\n",
              "    <tr>\n",
              "      <th>0</th>\n",
              "      <td>Decision Tree</td>\n",
              "      <td>0.737325</td>\n",
              "      <td>0.733488</td>\n",
              "      <td>0.731823</td>\n",
              "      <td>0.733488</td>\n",
              "      <td>0.739000</td>\n",
              "    </tr>\n",
              "    <tr>\n",
              "      <th>1</th>\n",
              "      <td>Random Forest</td>\n",
              "      <td>0.829825</td>\n",
              "      <td>0.829888</td>\n",
              "      <td>0.829338</td>\n",
              "      <td>0.829888</td>\n",
              "      <td>0.833855</td>\n",
              "    </tr>\n",
              "    <tr>\n",
              "      <th>2</th>\n",
              "      <td>Perceptron</td>\n",
              "      <td>0.845859</td>\n",
              "      <td>0.846829</td>\n",
              "      <td>0.846717</td>\n",
              "      <td>0.846829</td>\n",
              "      <td>0.848027</td>\n",
              "    </tr>\n",
              "    <tr>\n",
              "      <th>3</th>\n",
              "      <td>Multi-layer Perceptron</td>\n",
              "      <td>0.881331</td>\n",
              "      <td>0.887970</td>\n",
              "      <td>0.887961</td>\n",
              "      <td>0.887970</td>\n",
              "      <td>0.888048</td>\n",
              "    </tr>\n",
              "    <tr>\n",
              "      <th>4</th>\n",
              "      <td>K Nearest Neighbours</td>\n",
              "      <td>0.633934</td>\n",
              "      <td>0.637794</td>\n",
              "      <td>0.631026</td>\n",
              "      <td>0.637794</td>\n",
              "      <td>0.649414</td>\n",
              "    </tr>\n",
              "  </tbody>\n",
              "</table>\n",
              "</div>\n",
              "      <button class=\"colab-df-convert\" onclick=\"convertToInteractive('df-d57f15db-e4f4-4fa6-ac97-0be8e5cd6280')\"\n",
              "              title=\"Convert this dataframe to an interactive table.\"\n",
              "              style=\"display:none;\">\n",
              "        \n",
              "  <svg xmlns=\"http://www.w3.org/2000/svg\" height=\"24px\"viewBox=\"0 0 24 24\"\n",
              "       width=\"24px\">\n",
              "    <path d=\"M0 0h24v24H0V0z\" fill=\"none\"/>\n",
              "    <path d=\"M18.56 5.44l.94 2.06.94-2.06 2.06-.94-2.06-.94-.94-2.06-.94 2.06-2.06.94zm-11 1L8.5 8.5l.94-2.06 2.06-.94-2.06-.94L8.5 2.5l-.94 2.06-2.06.94zm10 10l.94 2.06.94-2.06 2.06-.94-2.06-.94-.94-2.06-.94 2.06-2.06.94z\"/><path d=\"M17.41 7.96l-1.37-1.37c-.4-.4-.92-.59-1.43-.59-.52 0-1.04.2-1.43.59L10.3 9.45l-7.72 7.72c-.78.78-.78 2.05 0 2.83L4 21.41c.39.39.9.59 1.41.59.51 0 1.02-.2 1.41-.59l7.78-7.78 2.81-2.81c.8-.78.8-2.07 0-2.86zM5.41 20L4 18.59l7.72-7.72 1.47 1.35L5.41 20z\"/>\n",
              "  </svg>\n",
              "      </button>\n",
              "      \n",
              "  <style>\n",
              "    .colab-df-container {\n",
              "      display:flex;\n",
              "      flex-wrap:wrap;\n",
              "      gap: 12px;\n",
              "    }\n",
              "\n",
              "    .colab-df-convert {\n",
              "      background-color: #E8F0FE;\n",
              "      border: none;\n",
              "      border-radius: 50%;\n",
              "      cursor: pointer;\n",
              "      display: none;\n",
              "      fill: #1967D2;\n",
              "      height: 32px;\n",
              "      padding: 0 0 0 0;\n",
              "      width: 32px;\n",
              "    }\n",
              "\n",
              "    .colab-df-convert:hover {\n",
              "      background-color: #E2EBFA;\n",
              "      box-shadow: 0px 1px 2px rgba(60, 64, 67, 0.3), 0px 1px 3px 1px rgba(60, 64, 67, 0.15);\n",
              "      fill: #174EA6;\n",
              "    }\n",
              "\n",
              "    [theme=dark] .colab-df-convert {\n",
              "      background-color: #3B4455;\n",
              "      fill: #D2E3FC;\n",
              "    }\n",
              "\n",
              "    [theme=dark] .colab-df-convert:hover {\n",
              "      background-color: #434B5C;\n",
              "      box-shadow: 0px 1px 3px 1px rgba(0, 0, 0, 0.15);\n",
              "      filter: drop-shadow(0px 1px 2px rgba(0, 0, 0, 0.3));\n",
              "      fill: #FFFFFF;\n",
              "    }\n",
              "  </style>\n",
              "\n",
              "      <script>\n",
              "        const buttonEl =\n",
              "          document.querySelector('#df-d57f15db-e4f4-4fa6-ac97-0be8e5cd6280 button.colab-df-convert');\n",
              "        buttonEl.style.display =\n",
              "          google.colab.kernel.accessAllowed ? 'block' : 'none';\n",
              "\n",
              "        async function convertToInteractive(key) {\n",
              "          const element = document.querySelector('#df-d57f15db-e4f4-4fa6-ac97-0be8e5cd6280');\n",
              "          const dataTable =\n",
              "            await google.colab.kernel.invokeFunction('convertToInteractive',\n",
              "                                                     [key], {});\n",
              "          if (!dataTable) return;\n",
              "\n",
              "          const docLinkHtml = 'Like what you see? Visit the ' +\n",
              "            '<a target=\"_blank\" href=https://colab.research.google.com/notebooks/data_table.ipynb>data table notebook</a>'\n",
              "            + ' to learn more about interactive tables.';\n",
              "          element.innerHTML = '';\n",
              "          dataTable['output_type'] = 'display_data';\n",
              "          await google.colab.output.renderOutput(dataTable, element);\n",
              "          const docLink = document.createElement('div');\n",
              "          docLink.innerHTML = docLinkHtml;\n",
              "          element.appendChild(docLink);\n",
              "        }\n",
              "      </script>\n",
              "    </div>\n",
              "  </div>\n",
              "  "
            ]
          },
          "metadata": {},
          "execution_count": 36
        }
      ]
    }
  ],
  "metadata": {
    "kernelspec": {
      "display_name": "Python 3",
      "name": "python3"
    },
    "language_info": {
      "codemirror_mode": {
        "name": "ipython",
        "version": 3
      },
      "file_extension": ".py",
      "mimetype": "text/x-python",
      "name": "python",
      "nbconvert_exporter": "python",
      "pygments_lexer": "ipython3",
      "version": "3.9.15"
    },
    "colab": {
      "provenance": [],
      "machine_shape": "hm",
      "gpuType": "T4"
    }
  },
  "nbformat": 4,
  "nbformat_minor": 5
}